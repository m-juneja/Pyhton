{
 "cells": [
  {
   "cell_type": "markdown",
   "metadata": {},
   "source": [
    "#### ARRAYS\n",
    "\n",
    "- An array is an object that stores a group of elements of same datatypes.\n",
    "- If it is of same datatype , then it proesses things very fast.\n",
    "\n",
    "- Array can store only on type of data . Either we can only store integer type data or float type data into an array.\n",
    "- Arrays can increase of decrease their size dynamically . \n",
    "\n",
    "arr1=[1,2,3,4,5, ....... 1000000items]\n",
    "\n",
    "#### Advantages of Arrays\n",
    "- Arrays are similar tolists , arrays can only store same type of elements . Arrays uses less memory than lists and they are faster \n",
    "- Arrays are useful to handle a collection of elements which are simmilar"
   ]
  },
  {
   "cell_type": "code",
   "execution_count": 18,
   "metadata": {},
   "outputs": [],
   "source": [
    "#help()"
   ]
  },
  {
   "cell_type": "code",
   "execution_count": 3,
   "metadata": {},
   "outputs": [],
   "source": [
    "import numpy as np"
   ]
  },
  {
   "cell_type": "code",
   "execution_count": 76,
   "metadata": {},
   "outputs": [
    {
     "name": "stdout",
     "output_type": "stream",
     "text": [
      "['a' 'b' 'c' 'd']\n"
     ]
    },
    {
     "data": {
      "text/plain": [
       "numpy.ndarray"
      ]
     },
     "execution_count": 76,
     "metadata": {},
     "output_type": "execute_result"
    }
   ],
   "source": [
    "a=np.array(['a','b','c','d'])\n",
    "print(a)\n",
    "type(a)"
   ]
  },
  {
   "cell_type": "code",
   "execution_count": 8,
   "metadata": {},
   "outputs": [
    {
     "name": "stdout",
     "output_type": "stream",
     "text": [
      "a b c d "
     ]
    }
   ],
   "source": [
    "n=len(a)\n",
    "\n",
    "i=0\n",
    "while i<n:\n",
    "    print(a[i],end=' ')\n",
    "    i=i+1"
   ]
  },
  {
   "cell_type": "code",
   "execution_count": 153,
   "metadata": {},
   "outputs": [
    {
     "data": {
      "text/plain": [
       "array([ 232., 4232.,   12.])"
      ]
     },
     "execution_count": 153,
     "metadata": {},
     "output_type": "execute_result"
    }
   ],
   "source": [
    "arr1=np.array([1.5,2.5,-4,12,232,4232,12,2323,21,1.5])\n",
    "arr1[4:7]"
   ]
  },
  {
   "cell_type": "code",
   "execution_count": 154,
   "metadata": {},
   "outputs": [
    {
     "data": {
      "text/plain": [
       "array([  12.,  232., 4232.,   12., 2323.])"
      ]
     },
     "execution_count": 154,
     "metadata": {},
     "output_type": "execute_result"
    }
   ],
   "source": [
    "arr1[-7:-2]"
   ]
  },
  {
   "cell_type": "markdown",
   "metadata": {},
   "source": [
    "#### Methods in Arrays : "
   ]
  },
  {
   "cell_type": "code",
   "execution_count": 11,
   "metadata": {},
   "outputs": [
    {
     "data": {
      "text/plain": [
       "array([   1,    2,   -4,   12,  232,   42,   52,  251, 1000, 1000])"
      ]
     },
     "execution_count": 11,
     "metadata": {},
     "output_type": "execute_result"
    }
   ],
   "source": [
    "# append\n",
    "\n",
    "arr1=np.array([1,2,-4,12,232,42,52,251,1000])\n",
    "arr2 = np.append(arr1,1000)\n",
    "arr2"
   ]
  },
  {
   "cell_type": "code",
   "execution_count": 12,
   "metadata": {},
   "outputs": [
    {
     "data": {
      "text/plain": [
       "2"
      ]
     },
     "execution_count": 12,
     "metadata": {},
     "output_type": "execute_result"
    }
   ],
   "source": [
    "# count\n",
    "arr2 = np.count_nonzero(arr2==1000)\n",
    "arr2"
   ]
  },
  {
   "cell_type": "code",
   "execution_count": 13,
   "metadata": {},
   "outputs": [
    {
     "name": "stdout",
     "output_type": "stream",
     "text": [
      "[1 2 3 4]\n"
     ]
    }
   ],
   "source": [
    "# Concatenate two arrays\n",
    "\n",
    "a = np. array([1,2])\n",
    "b= np.array([3,4])\n",
    "c = np.concatenate([a,b])\n",
    "print(c)"
   ]
  },
  {
   "cell_type": "code",
   "execution_count": 14,
   "metadata": {},
   "outputs": [
    {
     "data": {
      "text/plain": [
       "(array([3], dtype=int64),)"
      ]
     },
     "execution_count": 14,
     "metadata": {},
     "output_type": "execute_result"
    }
   ],
   "source": [
    "# Index\n",
    "\n",
    "np.where(c==4)"
   ]
  },
  {
   "cell_type": "code",
   "execution_count": 15,
   "metadata": {},
   "outputs": [
    {
     "data": {
      "text/plain": [
       "array([0, 1, 2, 3, 4])"
      ]
     },
     "execution_count": 15,
     "metadata": {},
     "output_type": "execute_result"
    }
   ],
   "source": [
    "# Insert at certian position\n",
    "\n",
    "d = np.insert(c,0,0)\n",
    "d"
   ]
  },
  {
   "cell_type": "code",
   "execution_count": 16,
   "metadata": {},
   "outputs": [
    {
     "data": {
      "text/plain": [
       "array([1, 2, 4, 6, 7, 7, 5, 3])"
      ]
     },
     "execution_count": 16,
     "metadata": {},
     "output_type": "execute_result"
    }
   ],
   "source": [
    "# Delete\n",
    "\n",
    "arr2 = np.array([1,2,4,6,7,7,5,336,3])\n",
    "np.delete(arr2,7) # 7th position"
   ]
  },
  {
   "cell_type": "code",
   "execution_count": 17,
   "metadata": {},
   "outputs": [
    {
     "data": {
      "text/plain": [
       "array([  1,   2,   3,   4,   5,   6,   7, 336])"
      ]
     },
     "execution_count": 17,
     "metadata": {},
     "output_type": "execute_result"
    }
   ],
   "source": [
    "# Unique - No duplicate\n",
    "\n",
    "arr2 = np.array([1,2,4,6,7,7,5,336,3])\n",
    "np.unique(arr2) # No Duplicate"
   ]
  },
  {
   "cell_type": "code",
   "execution_count": 18,
   "metadata": {},
   "outputs": [
    {
     "data": {
      "text/plain": [
       "array([  3, 336,   5,   7,   7,   6,   4,   2,   1])"
      ]
     },
     "execution_count": 18,
     "metadata": {},
     "output_type": "execute_result"
    }
   ],
   "source": [
    "arr2 = np.array([1,2,4,6,7,7,5,336,3])\n",
    "np.flip(arr2) "
   ]
  },
  {
   "cell_type": "markdown",
   "metadata": {},
   "source": [
    "#### Types of arrays \n",
    "\n",
    "- Single dimension arrays  # kind of one column in a data frame \n",
    "- Multi- dimension arrays # when you have more than one rows and more than one column of elements"
   ]
  },
  {
   "cell_type": "code",
   "execution_count": 19,
   "metadata": {},
   "outputs": [],
   "source": [
    "#multidimension arrays :\n",
    "marks=np.array([[50,60,70,66,72],    #first row talks about 1st student marks in Maths , Physic  , Chemisty , History , Science\n",
    "             [60,62,78,232,12],\n",
    "             [55,232,242,123,12]])  # We have 3 rows and 5 columns"
   ]
  },
  {
   "cell_type": "markdown",
   "metadata": {},
   "source": [
    "#### Creating arrays in numpy can be done in several ways \n",
    "- 1) array() function \n",
    "- 2) linespace()   ==> linespace(start,stop,n)\n",
    "- 3) logspace()  ==> produced equal spaced points ..but on logarithmic scale\n",
    "- 4) arange()\n",
    "- 5) zeroes() and ones()"
   ]
  },
  {
   "cell_type": "code",
   "execution_count": 23,
   "metadata": {},
   "outputs": [
    {
     "name": "stdout",
     "output_type": "stream",
     "text": [
      "a=  [ 0.   2.5  5.   7.5 10. ]\n"
     ]
    }
   ],
   "source": [
    "a=np.linspace(0,10,5)\n",
    "print(\"a= \",a)"
   ]
  },
  {
   "cell_type": "code",
   "execution_count": 26,
   "metadata": {},
   "outputs": [
    {
     "name": "stdout",
     "output_type": "stream",
     "text": [
      "[   10.            56.23413252   316.22776602  1778.27941004\n",
      " 10000.        ]\n",
      "10.0  56.23413251903491  316.22776601683796  1778.2794100389228  10000.0  "
     ]
    }
   ],
   "source": [
    "a1=np.logspace(1,4,5) # 10^1 to 10^4  and you divide all those values into 5 equal part\n",
    "print(a1)\n",
    "for i in range(len(a1)):\n",
    "    print(a1[i],end='  ')"
   ]
  },
  {
   "cell_type": "code",
   "execution_count": 28,
   "metadata": {},
   "outputs": [
    {
     "data": {
      "text/plain": [
       "array([0. , 1.5, 3. , 4.5, 6. , 7.5, 9. ])"
      ]
     },
     "execution_count": 28,
     "metadata": {},
     "output_type": "execute_result"
    }
   ],
   "source": [
    "np.arange(0,10,1.5)"
   ]
  },
  {
   "cell_type": "code",
   "execution_count": 30,
   "metadata": {},
   "outputs": [
    {
     "data": {
      "text/plain": [
       "array([0., 0., 0., 0., 0.])"
      ]
     },
     "execution_count": 30,
     "metadata": {},
     "output_type": "execute_result"
    }
   ],
   "source": [
    "np.zeros(5)"
   ]
  },
  {
   "cell_type": "code",
   "execution_count": 31,
   "metadata": {},
   "outputs": [
    {
     "data": {
      "text/plain": [
       "array([0, 0, 0, 0, 0])"
      ]
     },
     "execution_count": 31,
     "metadata": {},
     "output_type": "execute_result"
    }
   ],
   "source": [
    "np.zeros(5,int)"
   ]
  },
  {
   "cell_type": "code",
   "execution_count": 6,
   "metadata": {},
   "outputs": [
    {
     "data": {
      "text/plain": [
       "array([1., 1., 1., 1., 1., 1.])"
      ]
     },
     "execution_count": 6,
     "metadata": {},
     "output_type": "execute_result"
    }
   ],
   "source": [
    "np.ones(6,float)"
   ]
  },
  {
   "cell_type": "code",
   "execution_count": 35,
   "metadata": {},
   "outputs": [
    {
     "name": "stdout",
     "output_type": "stream",
     "text": [
      "[ 220  223  331  344 1332]\n"
     ]
    }
   ],
   "source": [
    "arr1=np.array([120,123,231,244,1232])\n",
    "arr_1=arr1+100\n",
    "print(arr_1)"
   ]
  },
  {
   "cell_type": "code",
   "execution_count": 36,
   "metadata": {},
   "outputs": [
    {
     "name": "stdout",
     "output_type": "stream",
     "text": [
      "[ 12000  12300  23100  24400 123200]\n"
     ]
    }
   ],
   "source": [
    "arr1=np.array([120,123,231,244,1232])\n",
    "arr_1=arr1*100\n",
    "print(arr_1)"
   ]
  },
  {
   "cell_type": "markdown",
   "metadata": {},
   "source": [
    "#### Mathematical Functions in Numpy"
   ]
  },
  {
   "cell_type": "code",
   "execution_count": 35,
   "metadata": {},
   "outputs": [
    {
     "name": "stdout",
     "output_type": "stream",
     "text": [
      "[ 0.58061118 -0.45990349 -0.99568419 -0.8645363  -0.45990349]\n",
      "[ 0.81418097 -0.88796891  0.09280622  0.50257038 -0.88796891]\n",
      "841\n",
      "-751500384\n",
      "120\n",
      "244\n",
      "3\n",
      "0\n",
      "4024.7\n",
      "56.74292907490765\n",
      "168.2\n",
      "[120 123 123 231 244]\n",
      "3219.76\n"
     ]
    }
   ],
   "source": [
    "arr1=np.array([120,123,231,244,123])\n",
    "print(np.sin(arr1))\n",
    "print(np.cos(arr1))\n",
    "print(np.sum(arr1))\n",
    "print(np.prod(arr1))\n",
    "print(np.min(arr1))\n",
    "print(np.max(arr1))\n",
    "print(np.argmax(arr1))\n",
    "print(np.argmin(arr1))\n",
    "print(np.cov(arr1))\n",
    "print(np.std(arr1))\n",
    "print(np.mean(arr1))\n",
    "print(np.sort(arr1))\n",
    "print(np.var(arr1))"
   ]
  },
  {
   "cell_type": "markdown",
   "metadata": {},
   "source": [
    "#### Operations "
   ]
  },
  {
   "cell_type": "code",
   "execution_count": 155,
   "metadata": {},
   "outputs": [
    {
     "name": "stdout",
     "output_type": "stream",
     "text": [
      "[ 144  529 2025 2025 1024]\n",
      "[32 43 65 65 52]\n",
      "[ 0 11 33 33 20]\n",
      "[ 6.  11.5 22.5 22.5 16. ]\n",
      "[144 276 540 540 384]\n"
     ]
    }
   ],
   "source": [
    "arr2 = np.array([12,23,45,45,32])\n",
    "arr2\n",
    "print(arr2**2)\n",
    "print(arr2+20)\n",
    "print(arr2-12)\n",
    "print(arr2/2)\n",
    "print(arr2*12)"
   ]
  },
  {
   "cell_type": "markdown",
   "metadata": {},
   "source": [
    "#### Comparison Array"
   ]
  },
  {
   "cell_type": "code",
   "execution_count": 54,
   "metadata": {},
   "outputs": [
    {
     "data": {
      "text/plain": [
       "array([ True, False,  True, False,  True])"
      ]
     },
     "execution_count": 54,
     "metadata": {},
     "output_type": "execute_result"
    }
   ],
   "source": [
    "arr1 = np.array([12,12,45,42,36])\n",
    "arr2 = np.array([12,23,45,45,32])\n",
    "arr1>=arr2"
   ]
  },
  {
   "cell_type": "code",
   "execution_count": 56,
   "metadata": {},
   "outputs": [
    {
     "data": {
      "text/plain": [
       "array([False, False, False])"
      ]
     },
     "execution_count": 56,
     "metadata": {},
     "output_type": "execute_result"
    }
   ],
   "source": [
    "a= np.array([10,20,30])\n",
    "b= np.array([30,40,50])\n",
    "a>b"
   ]
  },
  {
   "cell_type": "code",
   "execution_count": 58,
   "metadata": {},
   "outputs": [],
   "source": [
    "# any : if any ONE element of the array is True\n",
    "# all ? : whether  alll the elements in array are True "
   ]
  },
  {
   "cell_type": "code",
   "execution_count": 59,
   "metadata": {},
   "outputs": [
    {
     "name": "stdout",
     "output_type": "stream",
     "text": [
      "resylts of a>b  [ True False False]\n",
      "check if any one element is true : True\n",
      "check if all the elemets are true : False\n"
     ]
    }
   ],
   "source": [
    "a= np.array([100,20,30])\n",
    "b= np.array([30,40,50])\n",
    "c=a>b\n",
    "print(\"resylts of a>b \",c)\n",
    "print(\"check if any one element is true :\",any(c))\n",
    "print(\"check if all the elemets are true :\" ,all(c))"
   ]
  },
  {
   "cell_type": "markdown",
   "metadata": {},
   "source": [
    "#### Aliasing "
   ]
  },
  {
   "cell_type": "code",
   "execution_count": 63,
   "metadata": {},
   "outputs": [
    {
     "name": "stdout",
     "output_type": "stream",
     "text": [
      "[1 2 3 0]\n",
      "[99  2  3  0]\n"
     ]
    }
   ],
   "source": [
    "a=np.array([1,2,3,0])\n",
    "b=a # Aliasing \n",
    "print(b)\n",
    "b[0]=99\n",
    "print(a) # to avoid this we should create copy of a, so any change in variable b won't affect a as well. "
   ]
  },
  {
   "cell_type": "code",
   "execution_count": 65,
   "metadata": {},
   "outputs": [
    {
     "name": "stdout",
     "output_type": "stream",
     "text": [
      "Original array [1 2 3 0]\n",
      "New array  [99  2  3  0]\n"
     ]
    }
   ],
   "source": [
    "a=np.array([1,2,3,0])\n",
    "b=a.copy()\n",
    "b[0]=99  # modfying b \n",
    "print('Original array',a)\n",
    "print(\"New array \", b)"
   ]
  },
  {
   "cell_type": "markdown",
   "metadata": {},
   "source": [
    "#### Reshaping the Arrays"
   ]
  },
  {
   "cell_type": "code",
   "execution_count": 88,
   "metadata": {},
   "outputs": [
    {
     "name": "stdout",
     "output_type": "stream",
     "text": [
      "[0 1 2 3 4 5 6 7 8 9]\n",
      "[[0 1]\n",
      " [2 3]\n",
      " [4 5]\n",
      " [6 7]\n",
      " [8 9]]\n"
     ]
    }
   ],
   "source": [
    "arr1=np.arange(10)\n",
    "print(arr1)\n",
    "arr2=np.reshape(arr1,(5,2)) # 5 rows and 1 column\n",
    "print(arr2)"
   ]
  },
  {
   "cell_type": "code",
   "execution_count": 92,
   "metadata": {},
   "outputs": [
    {
     "data": {
      "text/plain": [
       "array([0, 1, 2, 3, 4, 5, 6, 7, 8, 9])"
      ]
     },
     "execution_count": 92,
     "metadata": {},
     "output_type": "execute_result"
    }
   ],
   "source": [
    "# Flatten : it is used to return a copy of array collapsed in one dimension \n",
    "arr2.flatten()"
   ]
  },
  {
   "cell_type": "code",
   "execution_count": 79,
   "metadata": {},
   "outputs": [],
   "source": [
    "# how do we create multidimensional arrays\n",
    "# Any 2 D array is also called Matrix : \n",
    "# Matrix with m rows and n columns is called m * n matrix"
   ]
  },
  {
   "cell_type": "code",
   "execution_count": 95,
   "metadata": {},
   "outputs": [
    {
     "name": "stdout",
     "output_type": "stream",
     "text": [
      "[1 2 3 4 5]\n"
     ]
    },
    {
     "data": {
      "text/plain": [
       "4"
      ]
     },
     "execution_count": 95,
     "metadata": {},
     "output_type": "execute_result"
    }
   ],
   "source": [
    "# one Dimensions of arrays :\n",
    "arr1=np.array([1,\n",
    "            2,\n",
    "            3,\n",
    "            4,\n",
    "            5])\n",
    "print(arr1)\n",
    "arr1[3]"
   ]
  },
  {
   "cell_type": "code",
   "execution_count": 96,
   "metadata": {},
   "outputs": [
    {
     "name": "stdout",
     "output_type": "stream",
     "text": [
      "[[1 2 3]\n",
      " [4 5 6]]\n"
     ]
    },
    {
     "data": {
      "text/plain": [
       "6"
      ]
     },
     "execution_count": 96,
     "metadata": {},
     "output_type": "execute_result"
    }
   ],
   "source": [
    "# 2 dimension arrays : anything whihc have more than 1 row and 1 column \n",
    "arr2=np.array([ [1,2,3],\n",
    "             [4,5,6]])\n",
    "print(arr2)  # we have two rows and 3 columns \n",
    "arr2[1][2]   # 1 row "
   ]
  },
  {
   "cell_type": "code",
   "execution_count": 108,
   "metadata": {},
   "outputs": [
    {
     "name": "stdout",
     "output_type": "stream",
     "text": [
      "(2, 3)\n",
      "6\n",
      "2\n",
      "2\n"
     ]
    }
   ],
   "source": [
    "print(np.shape(arr2))\n",
    "print(np.size(arr2))\n",
    "print(np.ndim(arr2))\n",
    "print(len(arr2))"
   ]
  },
  {
   "cell_type": "code",
   "execution_count": 114,
   "metadata": {},
   "outputs": [
    {
     "name": "stdout",
     "output_type": "stream",
     "text": [
      "[[[ 0  1]\n",
      "  [ 2  3]\n",
      "  [ 4  5]]\n",
      "\n",
      " [[ 6  7]\n",
      "  [ 8  9]\n",
      "  [10 11]]]\n",
      "11\n"
     ]
    }
   ],
   "source": [
    "# 3 dimension arrays : # 2 arrays , 3 rows and 2 columns\n",
    "a = np.arange(12)\n",
    "b=np.reshape(a,(2,3,2))  # 2 arrays , 3 rows and 2 columns\n",
    "print(b)\n",
    "print(b[1][2][1])"
   ]
  },
  {
   "cell_type": "code",
   "execution_count": 101,
   "metadata": {},
   "outputs": [
    {
     "data": {
      "text/plain": [
       "array([[1, 1, 1, 1],\n",
       "       [1, 1, 1, 1],\n",
       "       [1, 1, 1, 1]])"
      ]
     },
     "execution_count": 101,
     "metadata": {},
     "output_type": "execute_result"
    }
   ],
   "source": [
    "np.ones((3,4),int)"
   ]
  },
  {
   "cell_type": "code",
   "execution_count": 102,
   "metadata": {},
   "outputs": [
    {
     "data": {
      "text/plain": [
       "array([[0, 0, 0, 0],\n",
       "       [0, 0, 0, 0],\n",
       "       [0, 0, 0, 0]])"
      ]
     },
     "execution_count": 102,
     "metadata": {},
     "output_type": "execute_result"
    }
   ],
   "source": [
    "np.zeros((3,4),int)"
   ]
  },
  {
   "cell_type": "code",
   "execution_count": 104,
   "metadata": {},
   "outputs": [
    {
     "data": {
      "text/plain": [
       "array([[1., 0., 0.],\n",
       "       [0., 1., 0.],\n",
       "       [0., 0., 1.]])"
      ]
     },
     "execution_count": 104,
     "metadata": {},
     "output_type": "execute_result"
    }
   ],
   "source": [
    "e=np.eye(3)\n",
    "e"
   ]
  },
  {
   "cell_type": "markdown",
   "metadata": {},
   "source": [
    "#### Matrix - We can create matrix in array"
   ]
  },
  {
   "cell_type": "code",
   "execution_count": 158,
   "metadata": {},
   "outputs": [
    {
     "name": "stdout",
     "output_type": "stream",
     "text": [
      "<class 'list'>\n"
     ]
    },
    {
     "data": {
      "text/plain": [
       "matrix([[1, 2, 3],\n",
       "        [4, 5, 6]])"
      ]
     },
     "execution_count": 158,
     "metadata": {},
     "output_type": "execute_result"
    }
   ],
   "source": [
    "a1=[[1,2,3] , [4,5,6]]\n",
    "print(type(a1))\n",
    "a2=np.matrix(a1)\n",
    "a2"
   ]
  },
  {
   "cell_type": "code",
   "execution_count": 117,
   "metadata": {},
   "outputs": [
    {
     "data": {
      "text/plain": [
       "matrix([[1, 2],\n",
       "        [3, 4],\n",
       "        [5, 6]])"
      ]
     },
     "execution_count": 117,
     "metadata": {},
     "output_type": "execute_result"
    }
   ],
   "source": [
    "str1=\"1 2;3 4;5 6\"\n",
    "b2=np.matrix(str1)\n",
    "b2"
   ]
  },
  {
   "cell_type": "code",
   "execution_count": 144,
   "metadata": {},
   "outputs": [
    {
     "data": {
      "text/plain": [
       "matrix([[10, 20, 30],\n",
       "        [40, 50, 60]])"
      ]
     },
     "execution_count": 144,
     "metadata": {},
     "output_type": "execute_result"
    }
   ],
   "source": [
    "a1=np.matrix([[1,2,3] , [4,5,6]])\n",
    "a2 = a1*10\n",
    "a2"
   ]
  },
  {
   "cell_type": "code",
   "execution_count": 125,
   "metadata": {},
   "outputs": [
    {
     "name": "stdout",
     "output_type": "stream",
     "text": [
      "[[5 4 1]\n",
      " [2 7 0]]\n",
      "[[1 4 5]\n",
      " [0 2 7]]\n",
      "[[0 2 5]\n",
      " [1 4 7]]\n"
     ]
    }
   ],
   "source": [
    "# Sort the matrix :\n",
    "m=np.matrix([[5,4,1] , [2,7,0]])\n",
    "print(m)\n",
    "m2=np.sort(m,axis=1) # 0 is for columns and 1 for sorting on rows\n",
    "print(m2)\n",
    "m3=np.sort(m2,axis=0) # 0 is for columns and 1 for sorting on rows\n",
    "print(m3)"
   ]
  },
  {
   "cell_type": "code",
   "execution_count": 127,
   "metadata": {},
   "outputs": [
    {
     "data": {
      "text/plain": [
       "matrix([[5, 2],\n",
       "        [4, 7],\n",
       "        [1, 0]])"
      ]
     },
     "execution_count": 127,
     "metadata": {},
     "output_type": "execute_result"
    }
   ],
   "source": [
    "# Transpose of matrix - convert column into row\n",
    "m=np.matrix([[5,4,1] , [2,7,0]])\n",
    "np.transpose(m)"
   ]
  },
  {
   "cell_type": "markdown",
   "metadata": {},
   "source": [
    "#### Random Numbers "
   ]
  },
  {
   "cell_type": "code",
   "execution_count": 146,
   "metadata": {},
   "outputs": [
    {
     "data": {
      "text/plain": [
       "0.2828306637590925"
      ]
     },
     "execution_count": 146,
     "metadata": {},
     "output_type": "execute_result"
    }
   ],
   "source": [
    "np.random.rand()"
   ]
  },
  {
   "cell_type": "code",
   "execution_count": 147,
   "metadata": {},
   "outputs": [
    {
     "data": {
      "text/plain": [
       "array([0.0329379 , 0.75814837, 0.1127004 , 0.75457941, 0.14987086])"
      ]
     },
     "execution_count": 147,
     "metadata": {},
     "output_type": "execute_result"
    }
   ],
   "source": [
    "np.random.rand(5)"
   ]
  },
  {
   "cell_type": "code",
   "execution_count": 148,
   "metadata": {},
   "outputs": [
    {
     "data": {
      "text/plain": [
       "array([[0.03827169, 0.12748582, 0.28559602],\n",
       "       [0.31975767, 0.67783384, 0.84023908]])"
      ]
     },
     "execution_count": 148,
     "metadata": {},
     "output_type": "execute_result"
    }
   ],
   "source": [
    "np.random.rand(2,3)"
   ]
  },
  {
   "cell_type": "code",
   "execution_count": 149,
   "metadata": {},
   "outputs": [
    {
     "data": {
      "text/plain": [
       "0.8769194303472152"
      ]
     },
     "execution_count": 149,
     "metadata": {},
     "output_type": "execute_result"
    }
   ],
   "source": [
    "np.random.random()"
   ]
  }
 ],
 "metadata": {
  "kernelspec": {
   "display_name": "Python 3",
   "language": "python",
   "name": "python3"
  },
  "language_info": {
   "codemirror_mode": {
    "name": "ipython",
    "version": 3
   },
   "file_extension": ".py",
   "mimetype": "text/x-python",
   "name": "python",
   "nbconvert_exporter": "python",
   "pygments_lexer": "ipython3",
   "version": "3.8.5"
  }
 },
 "nbformat": 4,
 "nbformat_minor": 2
}
