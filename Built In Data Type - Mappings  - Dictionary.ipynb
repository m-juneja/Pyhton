{
 "cells": [
  {
   "cell_type": "markdown",
   "metadata": {},
   "source": [
    "### Mapping data types\n",
    "\n",
    "- dict type \n",
    "- Key and Value Pairs\n",
    "- if key repeat..ittakes the last value of that key."
   ]
  },
  {
   "cell_type": "code",
   "execution_count": 9,
   "metadata": {},
   "outputs": [
    {
     "name": "stdout",
     "output_type": "stream",
     "text": [
      "{'name': 'Mahak', 'Country': 'India', 'Temperature': '20'}\n",
      "Mahak\n",
      "<class 'dict'>\n",
      "dict_keys(['name', 'Country', 'Temperature'])\n",
      "dict_values(['Mahak', 'India', '20'])\n",
      "3\n"
     ]
    }
   ],
   "source": [
    "d = { 'name':'Mahak', \n",
    "     'Country':'India', \n",
    "     'Temperature':'20'}\n",
    "print(d)\n",
    "print(d['name'])\n",
    "print(type(d))\n",
    "print(d.keys())\n",
    "print(d.values())\n",
    "print(len(d))"
   ]
  },
  {
   "cell_type": "code",
   "execution_count": 12,
   "metadata": {},
   "outputs": [
    {
     "data": {
      "text/plain": [
       "{'name': 'Kush', 'Country': 'India', 'Temperature': '20'}"
      ]
     },
     "execution_count": 12,
     "metadata": {},
     "output_type": "execute_result"
    }
   ],
   "source": [
    "d['name']='Kush'\n",
    "d"
   ]
  },
  {
   "cell_type": "code",
   "execution_count": 8,
   "metadata": {},
   "outputs": [
    {
     "data": {
      "text/plain": [
       "True"
      ]
     },
     "execution_count": 8,
     "metadata": {},
     "output_type": "execute_result"
    }
   ],
   "source": [
    "\"name\" in d"
   ]
  },
  {
   "cell_type": "code",
   "execution_count": 30,
   "metadata": {},
   "outputs": [
    {
     "name": "stdout",
     "output_type": "stream",
     "text": [
      "Mahak\n",
      "India\n",
      "20\n",
      "\r\n",
      "name\n",
      "Country\n",
      "Temperature\n",
      "\r\n",
      "('name', 'Mahak')\n",
      "('Country', 'India')\n",
      "('Temperature', '20')\n",
      "\r\n",
      "name Mahak\n",
      "Country India\n",
      "Temperature 20\n"
     ]
    }
   ],
   "source": [
    "for i in d.values():\n",
    "    print(i)\n",
    "    \n",
    "print('\\r')\n",
    "    \n",
    "for i in d.keys():\n",
    "    print(i)\n",
    "\n",
    "print('\\r')\n",
    "\n",
    "for i in d.items():\n",
    "    print(i)\n",
    "    \n",
    "print('\\r')\n",
    "    \n",
    "for i,j in d.items():\n",
    "    print(i,j)"
   ]
  },
  {
   "cell_type": "markdown",
   "metadata": {},
   "source": [
    "#### Methods of dictionaries : \n",
    "\n",
    "- clear() : remove all the key-value pairs from dictioanry \n",
    "- copy()  : d2=d1.copy() : copy elements from d1 to d2\n",
    "- fromkeys() : create a new dictionary with keys from sequence\n",
    "- items() : if you want to iterate over dictionary and you want some key-values pairs\n",
    "- keys() : you can extract all the keys from dicionary \n",
    "- values() : you can extract values from dictionaries\n",
    "- update() : add elements from dictionary Y1 to X1(already created one) \n",
    "- pop(K,v) : it can remove certain Key and its values from the dictonary . It will return value also  . If that key is not found you ll get key error\n",
    "- setdefault(k,v) : if key is not found , then you can create a default key value pair . "
   ]
  },
  {
   "cell_type": "code",
   "execution_count": 20,
   "metadata": {},
   "outputs": [
    {
     "data": {
      "text/plain": [
       "{}"
      ]
     },
     "execution_count": 20,
     "metadata": {},
     "output_type": "execute_result"
    }
   ],
   "source": [
    "d.clear()\n",
    "d"
   ]
  },
  {
   "cell_type": "code",
   "execution_count": 24,
   "metadata": {},
   "outputs": [
    {
     "data": {
      "text/plain": [
       "{'name': 'Kush', 'Country': 'India', 'Temperature': '20'}"
      ]
     },
     "execution_count": 24,
     "metadata": {},
     "output_type": "execute_result"
    }
   ],
   "source": [
    "d = { 'name':'Mahak', \n",
    "     'Country':'India', \n",
    "     'Temperature':'20'}\n",
    "d1 = d.copy()\n",
    "d1['name']='Kush'\n",
    "d1"
   ]
  },
  {
   "cell_type": "code",
   "execution_count": 25,
   "metadata": {},
   "outputs": [
    {
     "data": {
      "text/plain": [
       "{'name': 'Mahak', 'Country': 'India', 'Temperature': '20'}"
      ]
     },
     "execution_count": 25,
     "metadata": {},
     "output_type": "execute_result"
    }
   ],
   "source": [
    "d"
   ]
  },
  {
   "cell_type": "code",
   "execution_count": null,
   "metadata": {},
   "outputs": [],
   "source": [
    "s=('Name','class','school')\n",
    "y=100\n",
    "di= dict.fromkeys(s,y)\n",
    "di"
   ]
  },
  {
   "cell_type": "code",
   "execution_count": 48,
   "metadata": {},
   "outputs": [
    {
     "data": {
      "text/html": [
       "<div>\n",
       "<style scoped>\n",
       "    .dataframe tbody tr th:only-of-type {\n",
       "        vertical-align: middle;\n",
       "    }\n",
       "\n",
       "    .dataframe tbody tr th {\n",
       "        vertical-align: top;\n",
       "    }\n",
       "\n",
       "    .dataframe thead th {\n",
       "        text-align: right;\n",
       "    }\n",
       "</style>\n",
       "<table border=\"1\" class=\"dataframe\">\n",
       "  <thead>\n",
       "    <tr style=\"text-align: right;\">\n",
       "      <th></th>\n",
       "      <th>Name</th>\n",
       "      <th>Class</th>\n",
       "      <th>Phone</th>\n",
       "    </tr>\n",
       "  </thead>\n",
       "  <tbody>\n",
       "    <tr>\n",
       "      <th>0</th>\n",
       "      <td>Vikas</td>\n",
       "      <td>9</td>\n",
       "      <td>12</td>\n",
       "    </tr>\n",
       "    <tr>\n",
       "      <th>1</th>\n",
       "      <td>Priya</td>\n",
       "      <td>10</td>\n",
       "      <td>23</td>\n",
       "    </tr>\n",
       "    <tr>\n",
       "      <th>2</th>\n",
       "      <td>Mehak</td>\n",
       "      <td>11</td>\n",
       "      <td>12</td>\n",
       "    </tr>\n",
       "  </tbody>\n",
       "</table>\n",
       "</div>"
      ],
      "text/plain": [
       "    Name  Class  Phone\n",
       "0  Vikas      9     12\n",
       "1  Priya     10     23\n",
       "2  Mehak     11     12"
      ]
     },
     "execution_count": 48,
     "metadata": {},
     "output_type": "execute_result"
    }
   ],
   "source": [
    "import pandas as pd\n",
    "df1=pd.DataFrame(\n",
    "                {\n",
    "                 'Name':['Vikas','Priya','Mehak'],\n",
    "                 'Class':[9,10,11],\n",
    "                 'Phone':[12,23,12]\n",
    "                }\n",
    "                )\n",
    "df1"
   ]
  },
  {
   "cell_type": "code",
   "execution_count": 55,
   "metadata": {},
   "outputs": [
    {
     "data": {
      "text/html": [
       "<div>\n",
       "<style scoped>\n",
       "    .dataframe tbody tr th:only-of-type {\n",
       "        vertical-align: middle;\n",
       "    }\n",
       "\n",
       "    .dataframe tbody tr th {\n",
       "        vertical-align: top;\n",
       "    }\n",
       "\n",
       "    .dataframe thead th {\n",
       "        text-align: right;\n",
       "    }\n",
       "</style>\n",
       "<table border=\"1\" class=\"dataframe\">\n",
       "  <thead>\n",
       "    <tr style=\"text-align: right;\">\n",
       "      <th></th>\n",
       "      <th>Name</th>\n",
       "      <th>Class</th>\n",
       "      <th>Phone</th>\n",
       "      <th>Country</th>\n",
       "    </tr>\n",
       "  </thead>\n",
       "  <tbody>\n",
       "    <tr>\n",
       "      <th>0</th>\n",
       "      <td>Vikas</td>\n",
       "      <td>9</td>\n",
       "      <td>12</td>\n",
       "      <td>Ind</td>\n",
       "    </tr>\n",
       "    <tr>\n",
       "      <th>1</th>\n",
       "      <td>Priya</td>\n",
       "      <td>10</td>\n",
       "      <td>23</td>\n",
       "      <td>UK</td>\n",
       "    </tr>\n",
       "    <tr>\n",
       "      <th>2</th>\n",
       "      <td>Mehak</td>\n",
       "      <td>11</td>\n",
       "      <td>12</td>\n",
       "      <td>Spain</td>\n",
       "    </tr>\n",
       "  </tbody>\n",
       "</table>\n",
       "</div>"
      ],
      "text/plain": [
       "    Name  Class  Phone Country\n",
       "0  Vikas      9     12     Ind\n",
       "1  Priya     10     23      UK\n",
       "2  Mehak     11     12   Spain"
      ]
     },
     "execution_count": 55,
     "metadata": {},
     "output_type": "execute_result"
    }
   ],
   "source": [
    "df2 ={'Name':['Vikas','Priya','Mehak'],\n",
    "      'Class':[9,10,11],\n",
    "      'Phone':[12,23,12]\n",
    "                }\n",
    "df2.update({'Country':['Ind','UK','Spain']})\n",
    "df2\n",
    "pd.DataFrame(df2)"
   ]
  },
  {
   "cell_type": "code",
   "execution_count": 69,
   "metadata": {},
   "outputs": [
    {
     "ename": "KeyError",
     "evalue": "'Phone'",
     "output_type": "error",
     "traceback": [
      "\u001b[1;31m---------------------------------------------------------------------------\u001b[0m",
      "\u001b[1;31mKeyError\u001b[0m                                  Traceback (most recent call last)",
      "\u001b[1;32m<ipython-input-69-feaf7ce10463>\u001b[0m in \u001b[0;36m<module>\u001b[1;34m\u001b[0m\n\u001b[1;32m----> 1\u001b[1;33m \u001b[0mdf2\u001b[0m\u001b[1;33m.\u001b[0m\u001b[0mpop\u001b[0m\u001b[1;33m(\u001b[0m\u001b[1;34m'Phone'\u001b[0m\u001b[1;33m)\u001b[0m\u001b[1;33m\u001b[0m\u001b[1;33m\u001b[0m\u001b[0m\n\u001b[0m",
      "\u001b[1;31mKeyError\u001b[0m: 'Phone'"
     ]
    }
   ],
   "source": [
    "df2.pop('Phone')"
   ]
  },
  {
   "cell_type": "code",
   "execution_count": 70,
   "metadata": {},
   "outputs": [
    {
     "data": {
      "text/plain": [
       "{'Name': ['Vikas', 'Priya', 'Mehak'],\n",
       " 'Class': [9, 10, 11],\n",
       " 'Country': ['Ind', 'UK', 'Spain']}"
      ]
     },
     "execution_count": 70,
     "metadata": {},
     "output_type": "execute_result"
    }
   ],
   "source": [
    "df2"
   ]
  },
  {
   "cell_type": "code",
   "execution_count": 71,
   "metadata": {},
   "outputs": [
    {
     "name": "stdout",
     "output_type": "stream",
     "text": [
      "Enter the total keys you want to create ??? \n",
      "1\n",
      "Enter the Key my child \n",
      "name\n",
      "Enter its value now \n",
      "kush\n",
      "final dicitonary is :  {'name': 'kush'}\n"
     ]
    }
   ],
   "source": [
    "# create a program to get the dictionary from users and display it here.\n",
    "x={}\n",
    "print(\"Enter the total keys you want to create ??? \")\n",
    "n=int(input())  # how many keys we want to create\n",
    "\n",
    "for i in range(n):\n",
    "    print(\"Enter the Key my child \")\n",
    "    k=input()\n",
    "    print(\"Enter its value now \")\n",
    "    v=input()\n",
    "    x.update({k:v})\n",
    "    \n",
    "print(\"final dicitonary is : \" , x)"
   ]
  },
  {
   "cell_type": "markdown",
   "metadata": {},
   "source": [
    "dict.items() : when you iterate over key , value pairs\n",
    "dict.iterrows() : iterate over rows as ( index , series) "
   ]
  },
  {
   "cell_type": "code",
   "execution_count": 72,
   "metadata": {},
   "outputs": [
    {
     "name": "stdout",
     "output_type": "stream",
     "text": [
      "Key is ==>  Name  Value is  ['Vikas', 'Priya', 'Mehak']\n",
      "Key is ==>  Class  Value is  [9, 10, 11]\n",
      "Key is ==>  Country  Value is  ['Ind', 'UK', 'Spain']\n"
     ]
    }
   ],
   "source": [
    "for k,v in df2.items():\n",
    "    print(\"Key is ==> \",k,\" Value is \",v)"
   ]
  },
  {
   "cell_type": "code",
   "execution_count": 77,
   "metadata": {},
   "outputs": [],
   "source": [
    "df3=pd.DataFrame(df2)"
   ]
  },
  {
   "cell_type": "code",
   "execution_count": 79,
   "metadata": {},
   "outputs": [
    {
     "name": "stdout",
     "output_type": "stream",
     "text": [
      "0 Name       Vikas\n",
      "Class          9\n",
      "Country      Ind\n",
      "Name: 0, dtype: object\n",
      "1 Name       Priya\n",
      "Class         10\n",
      "Country       UK\n",
      "Name: 1, dtype: object\n",
      "2 Name       Mehak\n",
      "Class         11\n",
      "Country    Spain\n",
      "Name: 2, dtype: object\n"
     ]
    }
   ],
   "source": [
    "for k,v in df3.iterrows():\n",
    "    print(k,v)"
   ]
  },
  {
   "cell_type": "code",
   "execution_count": 81,
   "metadata": {},
   "outputs": [
    {
     "data": {
      "text/plain": [
       "{11: 'Vikas', 1: 'priya', 5: 'mehak'}"
      ]
     },
     "execution_count": 81,
     "metadata": {},
     "output_type": "execute_result"
    }
   ],
   "source": [
    "# SORTING ON DICTIONARY : \n",
    "cls={11:'Vikas',\n",
    "    1:'priya',\n",
    "    5:'mehak'}\n",
    "\n",
    "cls"
   ]
  },
  {
   "cell_type": "code",
   "execution_count": 82,
   "metadata": {},
   "outputs": [
    {
     "data": {
      "text/plain": [
       "[(1, 'priya'), (5, 'mehak'), (11, 'Vikas')]"
      ]
     },
     "execution_count": 82,
     "metadata": {},
     "output_type": "execute_result"
    }
   ],
   "source": [
    "sorted(cls.items(),key=lambda t:t[0])"
   ]
  },
  {
   "cell_type": "code",
   "execution_count": 83,
   "metadata": {},
   "outputs": [
    {
     "data": {
      "text/plain": [
       "{'Vikas': 'India', 'mehak': 'spain', 'Priya': 'England'}"
      ]
     },
     "execution_count": 83,
     "metadata": {},
     "output_type": "execute_result"
    }
   ],
   "source": [
    "# can you convert lists to dictionaries : ?\n",
    "countries=['India','spain','England']\n",
    "name=['Vikas','mehak','Priya']\n",
    "z=zip(name,countries)\n",
    "z=dict(z)\n",
    "z"
   ]
  },
  {
   "cell_type": "code",
   "execution_count": null,
   "metadata": {},
   "outputs": [],
   "source": []
  }
 ],
 "metadata": {
  "kernelspec": {
   "display_name": "Python 3",
   "language": "python",
   "name": "python3"
  },
  "language_info": {
   "codemirror_mode": {
    "name": "ipython",
    "version": 3
   },
   "file_extension": ".py",
   "mimetype": "text/x-python",
   "name": "python",
   "nbconvert_exporter": "python",
   "pygments_lexer": "ipython3",
   "version": "3.8.5"
  }
 },
 "nbformat": 4,
 "nbformat_minor": 4
}
