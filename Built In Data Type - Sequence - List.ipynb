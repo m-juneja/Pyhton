{
 "cells": [
  {
   "cell_type": "markdown",
   "metadata": {},
   "source": [
    "#### LIST DATATYPE \n",
    "- It represents group of elements \n",
    "- List can store multiple types of elements but array can only store one type of elements.\n",
    "- Lists can grow dynamically in memory , but size of array is fixed and cant grow in run time."
   ]
  },
  {
   "cell_type": "code",
   "execution_count": 11,
   "metadata": {},
   "outputs": [
    {
     "name": "stdout",
     "output_type": "stream",
     "text": [
      "[10, 20, 'Mahak', 30, 40]\n"
     ]
    }
   ],
   "source": [
    "list1 = [10,20,\"Mahak\",30,40]\n",
    "print(list1)"
   ]
  },
  {
   "cell_type": "code",
   "execution_count": 12,
   "metadata": {},
   "outputs": [
    {
     "name": "stdout",
     "output_type": "stream",
     "text": [
      "[10, 20, 'Mahak', 30, 40]\n"
     ]
    }
   ],
   "source": [
    "list1 = list([10, 20, \"Mahak\", 30,40])\n",
    "print(list1)"
   ]
  },
  {
   "cell_type": "code",
   "execution_count": 13,
   "metadata": {},
   "outputs": [
    {
     "name": "stdout",
     "output_type": "stream",
     "text": [
      "[10, 20, 'Mahak']\n",
      "40\n",
      "[100, 20, 'Mahak', 30, 40]\n",
      "[100, 20, 'Mahak', 30, 40, 100, 20, 'Mahak', 30, 40, 100, 20, 'Mahak', 30, 40]\n"
     ]
    }
   ],
   "source": [
    "print(list1[0:3])\n",
    "print(list1[-1])\n",
    "list1[0]=100\n",
    "print(list1)\n",
    "print(list1*3) # multiply list* list = it Duplicates. "
   ]
  },
  {
   "cell_type": "code",
   "execution_count": 15,
   "metadata": {},
   "outputs": [
    {
     "data": {
      "text/plain": [
       "[20, 1, 7, 10, 5]"
      ]
     },
     "execution_count": 15,
     "metadata": {},
     "output_type": "execute_result"
    }
   ],
   "source": [
    "gfg_list=[8,1,7,10,5]\n",
    "gfg_list[0]\n",
    "gfg_list[0]=20\n",
    "gfg_list"
   ]
  },
  {
   "cell_type": "code",
   "execution_count": 16,
   "metadata": {},
   "outputs": [
    {
     "data": {
      "text/plain": [
       "[4, 6, 8]"
      ]
     },
     "execution_count": 16,
     "metadata": {},
     "output_type": "execute_result"
    }
   ],
   "source": [
    "a = range(4,9,2)\n",
    "list(a)"
   ]
  },
  {
   "cell_type": "code",
   "execution_count": null,
   "metadata": {},
   "outputs": [],
   "source": [
    "# append : , update , delete elemetes from the lists "
   ]
  },
  {
   "cell_type": "code",
   "execution_count": 26,
   "metadata": {},
   "outputs": [
    {
     "name": "stdout",
     "output_type": "stream",
     "text": [
      "10\n",
      "20\n",
      "30\n",
      "40\n",
      "50\n"
     ]
    },
    {
     "data": {
      "text/plain": [
       "150"
      ]
     },
     "execution_count": 26,
     "metadata": {},
     "output_type": "execute_result"
    }
   ],
   "source": [
    "m = [10,20,30,40,50]\n",
    "m1=[]  \n",
    "for i in range (len(m)):\n",
    "    print(m[i])\n",
    "    m1.append(m[i])  \n",
    "sum(m1)"
   ]
  },
  {
   "cell_type": "code",
   "execution_count": 32,
   "metadata": {},
   "outputs": [
    {
     "data": {
      "text/plain": [
       "[10, 20, 30, 40, 50, 100]"
      ]
     },
     "execution_count": 32,
     "metadata": {},
     "output_type": "execute_result"
    }
   ],
   "source": [
    "list2 = [10,20,30,40,50]\n",
    "list2.append(100)\n",
    "list2"
   ]
  },
  {
   "cell_type": "code",
   "execution_count": 35,
   "metadata": {},
   "outputs": [
    {
     "name": "stdout",
     "output_type": "stream",
     "text": [
      "[10, 12, 123, 123, 23, 212, 123, 234, 111, 1, 0, 222]\n",
      "[10, 12, 123, 123, 23, 212, 10, 12, 123, 123, 23, 212]\n"
     ]
    }
   ],
   "source": [
    "# concatentaion of lists \n",
    "x=[10,12,123,123,23,212]\n",
    "y=[123,234,111,1,0,222]\n",
    "print(x+y)\n",
    "print(x*2)"
   ]
  },
  {
   "cell_type": "code",
   "execution_count": 36,
   "metadata": {},
   "outputs": [
    {
     "name": "stdout",
     "output_type": "stream",
     "text": [
      "False\n"
     ]
    }
   ],
   "source": [
    "# Membership in lists \n",
    "x=[10,230,23,21]\n",
    "a=23\n",
    "print(a not in x)"
   ]
  },
  {
   "cell_type": "code",
   "execution_count": 38,
   "metadata": {},
   "outputs": [
    {
     "name": "stdout",
     "output_type": "stream",
     "text": [
      "[10, 99, 23, 21]\n",
      "[10, 99, 23, 21]\n"
     ]
    }
   ],
   "source": [
    "# cloning of lists \n",
    "y=x\n",
    "x[1]=99\n",
    "print(x)\n",
    "print(y)"
   ]
  },
  {
   "cell_type": "code",
   "execution_count": 42,
   "metadata": {},
   "outputs": [
    {
     "name": "stdout",
     "output_type": "stream",
     "text": [
      "[10, 5000, 23, 21]\n",
      "[10, 230, 23, 21]\n"
     ]
    }
   ],
   "source": [
    "x1=[10,230,23,21]\n",
    "y=x1.copy()\n",
    "x1[1]=5000\n",
    "print(x1)\n",
    "print(y)"
   ]
  },
  {
   "cell_type": "code",
   "execution_count": 43,
   "metadata": {},
   "outputs": [],
   "source": [
    "# x.sum()\n",
    "# x.index(a)\n",
    "# x.append(a) # i am appending a to x\n",
    "# x.insert(i,a) # insert a in index of x\n",
    "# x.copy()\n",
    "# x.extend(list1) # appending list1 to X\n",
    "# x.count() # number of occurences of element in the list \n",
    "# x.remove() # remove  x from list\n",
    "# x.pop() # removes the ending element from the list\n",
    "# x.sort()\n",
    "# x.reverse() # reverse the sequences \n",
    "# x.clear() # delete all the elements "
   ]
  },
  {
   "cell_type": "code",
   "execution_count": 52,
   "metadata": {},
   "outputs": [
    {
     "data": {
      "text/plain": [
       "[10, 20, 21, 23, 30, 230]"
      ]
     },
     "execution_count": 52,
     "metadata": {},
     "output_type": "execute_result"
    }
   ],
   "source": [
    "x1=[10,230,23,21]\n",
    "y1=[20,30]\n",
    "x1.extend(y1)\n",
    "x1.sort()\n",
    "x1"
   ]
  },
  {
   "cell_type": "code",
   "execution_count": 53,
   "metadata": {},
   "outputs": [
    {
     "data": {
      "text/plain": [
       "['123', '456', '098']"
      ]
     },
     "execution_count": 53,
     "metadata": {},
     "output_type": "execute_result"
    }
   ],
   "source": [
    "x='123#456#098'\n",
    "x=x.split('#')\n",
    "x"
   ]
  },
  {
   "cell_type": "code",
   "execution_count": 54,
   "metadata": {},
   "outputs": [
    {
     "name": "stdout",
     "output_type": "stream",
     "text": [
      "max value is :  20\n",
      "min value is :  5\n"
     ]
    }
   ],
   "source": [
    "# Finding biggest and smallest elements in list :\n",
    "# find index of max and min values in a list : Questions : \n",
    "x1=[20,10,5,20,15]\n",
    "print(\"max value is : \" , max(x1))\n",
    "print(\"min value is : \" , min(x1))"
   ]
  },
  {
   "cell_type": "code",
   "execution_count": 61,
   "metadata": {},
   "outputs": [
    {
     "name": "stdout",
     "output_type": "stream",
     "text": [
      "[5, 10, 15, 20, 20]\n",
      "[20, 20, 15, 10, 5]\n",
      "[]\n"
     ]
    }
   ],
   "source": [
    "x1.sort(reverse=False)\n",
    "print(x1)\n",
    "x1.reverse()\n",
    "print(x1)\n",
    "x1.clear()\n",
    "print(x1)"
   ]
  },
  {
   "cell_type": "code",
   "execution_count": 62,
   "metadata": {},
   "outputs": [
    {
     "name": "stdout",
     "output_type": "stream",
     "text": [
      "30\n",
      "0\n",
      "30\n",
      "0\n"
     ]
    }
   ],
   "source": [
    "a = [30,10,20,30]\n",
    "max_no = max(a)\n",
    "for i in range (len(a)):\n",
    "    if a[i]== max_no:\n",
    "        print(a[i])\n",
    "        print((a.index(max_no)))"
   ]
  },
  {
   "cell_type": "code",
   "execution_count": 69,
   "metadata": {},
   "outputs": [
    {
     "name": "stdout",
     "output_type": "stream",
     "text": [
      "[10, 20, [30, 40]]\n"
     ]
    },
    {
     "data": {
      "text/plain": [
       "40"
      ]
     },
     "execution_count": 69,
     "metadata": {},
     "output_type": "execute_result"
    }
   ],
   "source": [
    "# Nested lists\n",
    "y1 = [10,20]\n",
    "y2 = [30,40]\n",
    "y1.append(y2)\n",
    "print(y1)\n",
    "y1[2][1]"
   ]
  },
  {
   "cell_type": "markdown",
   "metadata": {},
   "source": [
    "#### LIST COMPRHENSIONS : \n",
    "- creation of lists from an iteratable object like list , set , dictionary or range "
   ]
  },
  {
   "cell_type": "code",
   "execution_count": 70,
   "metadata": {},
   "outputs": [
    {
     "data": {
      "text/plain": [
       "[4, 16, 36, 64, 100]"
      ]
     },
     "execution_count": 70,
     "metadata": {},
     "output_type": "execute_result"
    }
   ],
   "source": [
    "square=[]\n",
    "for x in range(1,11):\n",
    "    if x%2==0:\n",
    "        square.append(x**2)\n",
    "square"
   ]
  },
  {
   "cell_type": "code",
   "execution_count": 71,
   "metadata": {},
   "outputs": [
    {
     "data": {
      "text/plain": [
       "[1, 4, 9, 16, 25, 36, 49, 64, 81, 100]"
      ]
     },
     "execution_count": 71,
     "metadata": {},
     "output_type": "execute_result"
    }
   ],
   "source": [
    "[x**2 for x in range(1,11)]"
   ]
  },
  {
   "cell_type": "code",
   "execution_count": 72,
   "metadata": {},
   "outputs": [
    {
     "data": {
      "text/plain": [
       "[1, 3, 5, 7, 9]"
      ]
     },
     "execution_count": 72,
     "metadata": {},
     "output_type": "execute_result"
    }
   ],
   "source": [
    "[ x for x in range(1,11) if x%2!=0]"
   ]
  },
  {
   "cell_type": "code",
   "execution_count": 75,
   "metadata": {},
   "outputs": [
    {
     "data": {
      "text/plain": [
       "[0, 4]"
      ]
     },
     "execution_count": 75,
     "metadata": {},
     "output_type": "execute_result"
    }
   ],
   "source": [
    "n = [40,10,20,30,40,10]\n",
    "[i for i in range (len(n)) if n[i]==max(n)]"
   ]
  }
 ],
 "metadata": {
  "kernelspec": {
   "display_name": "Python 3",
   "language": "python",
   "name": "python3"
  },
  "language_info": {
   "codemirror_mode": {
    "name": "ipython",
    "version": 3
   },
   "file_extension": ".py",
   "mimetype": "text/x-python",
   "name": "python",
   "nbconvert_exporter": "python",
   "pygments_lexer": "ipython3",
   "version": "3.8.5"
  }
 },
 "nbformat": 4,
 "nbformat_minor": 4
}
