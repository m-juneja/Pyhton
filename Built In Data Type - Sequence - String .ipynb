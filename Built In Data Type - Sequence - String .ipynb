{
 "cells": [
  {
   "cell_type": "code",
   "execution_count": null,
   "metadata": {},
   "outputs": [],
   "source": [
    "str1=\"Welcome\"\n",
    "type(str1)"
   ]
  },
  {
   "cell_type": "code",
   "execution_count": null,
   "metadata": {},
   "outputs": [],
   "source": [
    "str1='Welcome'\n",
    "type(str1)"
   ]
  },
  {
   "cell_type": "code",
   "execution_count": null,
   "metadata": {},
   "outputs": [],
   "source": [
    "str2='''This is a string example\n",
    "whichs asdasdas dasd asdas\n",
    "kounfnfn\n",
    "'''\n",
    "print(type(str2))\n",
    "print(len(str2))"
   ]
  },
  {
   "cell_type": "markdown",
   "metadata": {},
   "source": [
    "#### Escape Characters "
   ]
  },
  {
   "cell_type": "code",
   "execution_count": 3,
   "metadata": {},
   "outputs": [
    {
     "name": "stdout",
     "output_type": "stream",
     "text": [
      "Welcome\n",
      "this world\n",
      " mahak juneja learning \n",
      "this \tmahak juneja learning \n",
      "It's alright\n"
     ]
    }
   ],
   "source": [
    "s = 'Welcome\\nthis world'   # use of \\n to write in next line. \n",
    "print(s) \n",
    "\n",
    "txt='this \\r mahak juneja learning '  # \\r use to print after r statement.\n",
    "print(txt)\n",
    "\n",
    "\n",
    "txt='this \\tmahak juneja learning '  # \\t use to add one tab space\n",
    "print(txt)\n",
    "\n",
    "txt='It\\'s alright'\n",
    "print(txt)"
   ]
  },
  {
   "cell_type": "code",
   "execution_count": 7,
   "metadata": {},
   "outputs": [
    {
     "name": "stdout",
     "output_type": "stream",
     "text": [
      "I am learning Python\r\n",
      "I am learning Python"
     ]
    }
   ],
   "source": [
    "# While and For Loop in string \n",
    "\n",
    "a = 'I am learning Python'\n",
    "for i in range (len(a)):\n",
    "    print(a[i], end='')\n",
    "    \n",
    "print(\"\\r\")\n",
    "\n",
    "n = len(a)\n",
    "i = 0 \n",
    "while i<n:\n",
    "    print(a[i], end='')\n",
    "    i=i+1"
   ]
  },
  {
   "cell_type": "code",
   "execution_count": 20,
   "metadata": {},
   "outputs": [
    {
     "name": "stdout",
     "output_type": "stream",
     "text": [
      "c\n",
      "m\n",
      "chi\n",
      "Machine learning is in boom\n",
      "Mheengsno\n",
      "Machine learning is in boom\n",
      "Machine learning is in bo\n",
      "Machine learning is in boomMachine learning is in boom\n",
      "m\n"
     ]
    }
   ],
   "source": [
    "# Indexing in String but non mutable\n",
    "\n",
    "str1 = 'Machine learning is in boom'\n",
    "\n",
    "print(str1[2])\n",
    "print(str1[-1])\n",
    "print(str1[2:5])  # from 2 to 4\n",
    "print(str1[::])\n",
    "print(str1[::3])\n",
    "print(str1[:len(str1):])\n",
    "print(str1[:len(str1)-2:])\n",
    "print(str1*2)\n",
    "print(str1[-1])"
   ]
  },
  {
   "cell_type": "code",
   "execution_count": 25,
   "metadata": {},
   "outputs": [
    {
     "name": "stdout",
     "output_type": "stream",
     "text": [
      "Machine Learning Python\n",
      "Machine Learning Python\n"
     ]
    }
   ],
   "source": [
    "# Concetation of Strings\n",
    "\n",
    "a = 'Machine Learning'\n",
    "b = ' Python'\n",
    "print(a+b)\n",
    "\n",
    "a = 'Machine Learning'\n",
    "b = 'Python'\n",
    "print(a,b)"
   ]
  },
  {
   "cell_type": "code",
   "execution_count": 28,
   "metadata": {},
   "outputs": [
    {
     "name": "stdout",
     "output_type": "stream",
     "text": [
      "No\n"
     ]
    }
   ],
   "source": [
    "# Can we compare string, yes\n",
    "\n",
    "a = 'Boy'\n",
    "b = 'Bat'\n",
    "if a==b:\n",
    "    print('yes they are similar')\n",
    "else:\n",
    "    print('No')"
   ]
  },
  {
   "cell_type": "code",
   "execution_count": 35,
   "metadata": {},
   "outputs": [
    {
     "name": "stdout",
     "output_type": "stream",
     "text": [
      "         she is in class and she is studying     \n",
      "she is in class and she is studying     \n",
      "         she is in class and she is studying\n",
      "she is in class and she is studying\n"
     ]
    }
   ],
   "source": [
    "# Removing spaces from strings :\n",
    "str2='         she is in class and she is studying     '\n",
    "print(str2)\n",
    "print(str2.lstrip()) # remove spaces from left\n",
    "print(str2.rstrip()) # remove spaces from right\n",
    "str3=print(str2.strip()) #removing spaces from both the ends"
   ]
  },
  {
   "cell_type": "markdown",
   "metadata": {},
   "source": [
    "#### Finding  Sub strings \n",
    "- find()\n",
    "- rfind()\n",
    "- index()"
   ]
  },
  {
   "cell_type": "code",
   "execution_count": 55,
   "metadata": {},
   "outputs": [
    {
     "name": "stdout",
     "output_type": "stream",
     "text": [
      "19\n",
      "0\n",
      "14\n",
      "-1\n"
     ]
    },
    {
     "data": {
      "text/plain": [
       "7"
      ]
     },
     "execution_count": 55,
     "metadata": {},
     "output_type": "execute_result"
    }
   ],
   "source": [
    "str3 = 'she is studying python'\n",
    "print(str3.rfind('h'))\n",
    "print(str3.find('s'))\n",
    "print(str3.index('g'))\n",
    "print(str3.rfind('z'))\n",
    "\n",
    "str1='she is learning chinese'\n",
    "str1.find('learning', 0, len(str1))\n",
    "# here are two things.. when i am trying to find substring in my main string.. i get indexing..\n",
    "# if that word is not in my string.. outcome is -1. \n"
   ]
  },
  {
   "cell_type": "code",
   "execution_count": 52,
   "metadata": {},
   "outputs": [
    {
     "name": "stdout",
     "output_type": "stream",
     "text": [
      "Enter main string : once for all\n",
      "Enter what you need to find ?all\n",
      "it was found at :  10\n"
     ]
    }
   ],
   "source": [
    "str2=input(\"Enter main string : \")\n",
    "sub=input(\"Enter what you need to find ?\")\n",
    "n=str2.find(sub,0,len(str2))\n",
    "\n",
    "if n==-1:\n",
    "    print(\"sub strin not found\")\n",
    "else:\n",
    "    print(\"it was found at : \" , n+1)"
   ]
  },
  {
   "cell_type": "code",
   "execution_count": 47,
   "metadata": {},
   "outputs": [
    {
     "name": "stdout",
     "output_type": "stream",
     "text": [
      "Enter main string : once for all \n",
      "Enter what you need to find ?all \n",
      "9\n"
     ]
    }
   ],
   "source": [
    "str2=input(\"Enter main string : \")\n",
    "sub=input(\"Enter what you need to find ?\")\n",
    "n=str2.find(sub,0,len(str2))\n",
    "print(n)"
   ]
  },
  {
   "cell_type": "code",
   "execution_count": 103,
   "metadata": {},
   "outputs": [
    {
     "name": "stdout",
     "output_type": "stream",
     "text": [
      "she\n",
      "0\n",
      "she\n",
      "0\n"
     ]
    }
   ],
   "source": [
    "# python program to display all positions of a substring in a main string\n",
    "\n",
    "a = 'she is learning Python and she is learning ML'\n",
    "b = a.split()\n",
    "\n",
    "for i in (b):\n",
    "    if i == 'she':\n",
    "        print(i)\n",
    "        print(i.index('she'))"
   ]
  },
  {
   "cell_type": "code",
   "execution_count": 104,
   "metadata": {},
   "outputs": [
    {
     "name": "stdout",
     "output_type": "stream",
     "text": [
      "0\n",
      "17\n",
      "42\n"
     ]
    }
   ],
   "source": [
    "s='cat is under the cat and there is another cat'\n",
    "i = s.find('cat')\n",
    "print(i)\n",
    "\n",
    "b = s.find('cat', i+1)\n",
    "print(b)\n",
    "\n",
    "c=s.find('cat', b+1)\n",
    "print(c)"
   ]
  },
  {
   "cell_type": "code",
   "execution_count": 105,
   "metadata": {},
   "outputs": [
    {
     "name": "stdout",
     "output_type": "stream",
     "text": [
      "2\n"
     ]
    }
   ],
   "source": [
    "ch = a.count('she')\n",
    "print(ch)"
   ]
  },
  {
   "cell_type": "markdown",
   "metadata": {},
   "source": [
    "#### Some properties :\n",
    "- Strings are immutable : whose content cannot be changed . "
   ]
  },
  {
   "cell_type": "code",
   "execution_count": 108,
   "metadata": {},
   "outputs": [
    {
     "data": {
      "text/plain": [
       "'Python is an intersting language'"
      ]
     },
     "execution_count": 108,
     "metadata": {},
     "output_type": "execute_result"
    }
   ],
   "source": [
    "# we can assign values in string..\n",
    "str3='Python is an intersting language'\n",
    "str4=str3\n",
    "str4"
   ]
  },
  {
   "cell_type": "markdown",
   "metadata": {},
   "source": [
    "#### Methods in string"
   ]
  },
  {
   "cell_type": "code",
   "execution_count": 110,
   "metadata": {},
   "outputs": [
    {
     "data": {
      "text/plain": [
       "'she is in University and she is studying'"
      ]
     },
     "execution_count": 110,
     "metadata": {},
     "output_type": "execute_result"
    }
   ],
   "source": [
    "str1=\"she is in class and she is studying\"\n",
    "str1.replace('class','University')"
   ]
  },
  {
   "cell_type": "code",
   "execution_count": 118,
   "metadata": {},
   "outputs": [],
   "source": [
    "# Can i split my string?\n",
    "\n",
    "st='she is learning chinese'\n",
    "st1 = st.split(' ')"
   ]
  },
  {
   "cell_type": "markdown",
   "metadata": {},
   "source": [
    "Change string into list - use split \n",
    "change list into string - use join  method "
   ]
  },
  {
   "cell_type": "code",
   "execution_count": 134,
   "metadata": {},
   "outputs": [
    {
     "data": {
      "text/plain": [
       "'she is learning chinese'"
      ]
     },
     "execution_count": 134,
     "metadata": {},
     "output_type": "execute_result"
    }
   ],
   "source": [
    "st2 = ' '.join(st1)\n",
    "st2"
   ]
  },
  {
   "cell_type": "code",
   "execution_count": 136,
   "metadata": {},
   "outputs": [
    {
     "name": "stdout",
     "output_type": "stream",
     "text": [
      "SHE IS LEARNING CHINESE\n",
      "she is learning chinese\n",
      "SHE IS LEARNING CHINESE\n",
      "She Is Learning Chinese\n",
      "False\n",
      "False\n"
     ]
    }
   ],
   "source": [
    "print(st2.upper())\n",
    "print(st2.lower())\n",
    "print(st2.swapcase())\n",
    "print(st2.title())\n",
    "print(a.startswith('is'))\n",
    "print(a.endswith('c'))"
   ]
  },
  {
   "cell_type": "code",
   "execution_count": 153,
   "metadata": {},
   "outputs": [
    {
     "name": "stdout",
     "output_type": "stream",
     "text": [
      "True\n",
      "False\n",
      "False\n",
      "True\n",
      "False\n",
      "False\n",
      "['1', '2', '3', 'e', 'h', 's']\n"
     ]
    }
   ],
   "source": [
    "st3 = 'she123'\n",
    "print(st3.isalnum())\n",
    "print(st3.isalpha())\n",
    "print(st3.isdigit())\n",
    "print(st3.islower())\n",
    "print(st3.isupper())\n",
    "print(st3.isspace())\n",
    "print(sorted(st3))"
   ]
  },
  {
   "cell_type": "markdown",
   "metadata": {},
   "source": [
    "Questions : build a program to sort the countries in alphabetic order .\n",
    "step 1 : get 5 inputs from user and ask 5  countriy names.. \n",
    "step2 : store them in list \n",
    "step3 : give output of Sorted country names . "
   ]
  },
  {
   "cell_type": "code",
   "execution_count": 154,
   "metadata": {},
   "outputs": [
    {
     "name": "stdout",
     "output_type": "stream",
     "text": [
      "Enter five countriesValencia Kkr Bol Del Har\n",
      "['Bol', 'Del', 'Har', 'Kkr', 'Valencia']\n"
     ]
    }
   ],
   "source": [
    "a = input('Enter five countries')\n",
    "h =a.split(' ')\n",
    "print(sorted(h))"
   ]
  },
  {
   "cell_type": "code",
   "execution_count": null,
   "metadata": {},
   "outputs": [],
   "source": [
    "len(str1) # if you do not have len function .. how would you find the length of string ?"
   ]
  },
  {
   "cell_type": "code",
   "execution_count": 4,
   "metadata": {},
   "outputs": [
    {
     "name": "stdout",
     "output_type": "stream",
     "text": [
      "22\n"
     ]
    }
   ],
   "source": [
    "m='mahak is learning chinese'\n",
    "count=0\n",
    "for i in (m):\n",
    "    if i==' ':\n",
    "        continue\n",
    "    count=count+1\n",
    "print(count)"
   ]
  },
  {
   "cell_type": "code",
   "execution_count": 7,
   "metadata": {},
   "outputs": [
    {
     "name": "stdout",
     "output_type": "stream",
     "text": [
      "[-23, -6, -5, 0, 5, 23, 23, 67]\n"
     ]
    }
   ],
   "source": [
    "data_list = [-5, -23, 5, 0, 23, -6, 23, 67]\n",
    "new_list = []\n",
    "\n",
    "while data_list:\n",
    "    minimum = data_list[0]  # arbitrary number in list \n",
    "    for x in data_list: \n",
    "        if x < minimum:\n",
    "            minimum = x\n",
    "    new_list.append(minimum)\n",
    "    data_list.remove(minimum)    \n",
    "print(new_list)"
   ]
  },
  {
   "cell_type": "code",
   "execution_count": 27,
   "metadata": {},
   "outputs": [],
   "source": [
    "ste='she is in class and she is studying'\n",
    "replace_word='university '\n",
    "word_to_replace='class'\n",
    "index_start=ste.index(word_to_replace)\n",
    "len_word=len(word_to_replace)\n",
    "\n",
    "# need a index from where class is starting\n",
    "# need where it is ending \n",
    "# what is the length of inpt word\n",
    "# from starting to where the word is startin.. create a sperate string\n",
    "# concatenation "
   ]
  },
  {
   "cell_type": "code",
   "execution_count": 35,
   "metadata": {},
   "outputs": [
    {
     "data": {
      "text/plain": [
       "'she is in university and she is studying'"
      ]
     },
     "execution_count": 35,
     "metadata": {},
     "output_type": "execute_result"
    }
   ],
   "source": [
    "index_end=index_start+len_word\n",
    "ste[:index_start]+replace_word+ste[16:]"
   ]
  },
  {
   "cell_type": "code",
   "execution_count": null,
   "metadata": {},
   "outputs": [],
   "source": []
  },
  {
   "cell_type": "code",
   "execution_count": null,
   "metadata": {},
   "outputs": [],
   "source": []
  }
 ],
 "metadata": {
  "kernelspec": {
   "display_name": "Python 3",
   "language": "python",
   "name": "python3"
  },
  "language_info": {
   "codemirror_mode": {
    "name": "ipython",
    "version": 3
   },
   "file_extension": ".py",
   "mimetype": "text/x-python",
   "name": "python",
   "nbconvert_exporter": "python",
   "pygments_lexer": "ipython3",
   "version": "3.8.5"
  }
 },
 "nbformat": 4,
 "nbformat_minor": 4
}
