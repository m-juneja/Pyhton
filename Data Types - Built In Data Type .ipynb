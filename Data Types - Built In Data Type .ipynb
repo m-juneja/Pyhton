{
 "cells": [
  {
   "cell_type": "markdown",
   "metadata": {},
   "source": [
    "### Data Types in python : \n",
    "#### Built in data types are : \n",
    "    # NoneType \n",
    "    # Numeric Types \n",
    "        # int\n",
    "        # float\n",
    "        # complex\n",
    "    \n",
    "    # Sequences \n",
    "        # str\n",
    "        # bytes\n",
    "        # bytearray\n",
    "        # list\n",
    "        # tuple\n",
    "        # range\n",
    "    # Sets \n",
    "        #set datatyp\n",
    "        # frozenset datatype\n",
    "    # Mappings\n",
    "        # dictionary"
   ]
  },
  {
   "cell_type": "markdown",
   "metadata": {},
   "source": [
    "#### Nonetype \n",
    " - It represents an object that does not contains any value\n",
    " - When calling function , if no value is passed , it will be take as None "
   ]
  },
  {
   "cell_type": "code",
   "execution_count": 14,
   "metadata": {},
   "outputs": [],
   "source": [
    "x=None\n",
    "if x==True:\n",
    "    print('Yes')"
   ]
  },
  {
   "cell_type": "code",
   "execution_count": 17,
   "metadata": {},
   "outputs": [
    {
     "name": "stdout",
     "output_type": "stream",
     "text": [
      "Yes\n"
     ]
    }
   ],
   "source": [
    "x=None\n",
    "if x!=True:\n",
    "    print('Yes')"
   ]
  },
  {
   "cell_type": "code",
   "execution_count": 19,
   "metadata": {},
   "outputs": [],
   "source": [
    "x=None\n",
    "if x==False:\n",
    "    print('Yes')"
   ]
  },
  {
   "cell_type": "markdown",
   "metadata": {},
   "source": [
    "### Int data type\n",
    "-  A number without any decimal point or fraction part. "
   ]
  },
  {
   "cell_type": "code",
   "execution_count": null,
   "metadata": {},
   "outputs": [],
   "source": [
    "# A number without any decimal \n",
    "a = 10\n",
    "type(a)"
   ]
  },
  {
   "cell_type": "markdown",
   "metadata": {},
   "source": [
    "#### Float Data Type - decimals "
   ]
  },
  {
   "cell_type": "code",
   "execution_count": null,
   "metadata": {},
   "outputs": [],
   "source": [
    "a = 10.0\n",
    "type(a)"
   ]
  },
  {
   "cell_type": "markdown",
   "metadata": {},
   "source": [
    "#### Complex Data type - A number written in form of a+bj\n",
    " - j is an imaginery number."
   ]
  },
  {
   "cell_type": "code",
   "execution_count": null,
   "metadata": {},
   "outputs": [],
   "source": [
    "a = 5+6j\n",
    "type(a)"
   ]
  },
  {
   "cell_type": "code",
   "execution_count": null,
   "metadata": {},
   "outputs": [],
   "source": [
    "'''\n",
    "Representing Binary, Octal and Hexadecimal Numbers \n",
    "0b110110 , 0B101021 are Binary Numbers\n",
    "0xa303030, 0x88484 are Hexadecimal Numbers\n",
    "0o1478, 0o33383 are Octal Numbers\n",
    "'''"
   ]
  },
  {
   "cell_type": "code",
   "execution_count": 20,
   "metadata": {},
   "outputs": [
    {
     "name": "stdout",
     "output_type": "stream",
     "text": [
      "15.0\n"
     ]
    }
   ],
   "source": [
    "x = 15\n",
    "print(float(x))"
   ]
  },
  {
   "cell_type": "code",
   "execution_count": 21,
   "metadata": {},
   "outputs": [
    {
     "name": "stdout",
     "output_type": "stream",
     "text": [
      "(10+0j)\n"
     ]
    }
   ],
   "source": [
    "y = 10\n",
    "print(complex(y))"
   ]
  },
  {
   "cell_type": "code",
   "execution_count": null,
   "metadata": {},
   "outputs": [],
   "source": []
  },
  {
   "cell_type": "code",
   "execution_count": 22,
   "metadata": {},
   "outputs": [
    {
     "name": "stdout",
     "output_type": "stream",
     "text": [
      "Binary of 1110010 114\n",
      "15\n"
     ]
    },
    {
     "data": {
      "text/plain": [
       "int"
      ]
     },
     "execution_count": 22,
     "metadata": {},
     "output_type": "execute_result"
    }
   ],
   "source": [
    "n1 = 0b1110010\n",
    "n2 = 0x183\n",
    "n3 = 0o17\n",
    "\n",
    "n = int(n1)\n",
    "print('Binary of 1110010 {}'.format(n))\n",
    "print(int(n3))\n",
    "type(n1)\n",
    "\n",
    "# Int help us to convert the Bibary,Octal number into Int and understand it. "
   ]
  },
  {
   "cell_type": "markdown",
   "metadata": {},
   "source": [
    "#### Bool Data Type\n",
    "\n",
    "- Two boolean values : True and False  ( 1, 0 )"
   ]
  },
  {
   "cell_type": "code",
   "execution_count": 28,
   "metadata": {},
   "outputs": [
    {
     "data": {
      "text/plain": [
       "True"
      ]
     },
     "execution_count": 28,
     "metadata": {},
     "output_type": "execute_result"
    }
   ],
   "source": [
    "a = \"\"\n",
    "a!=True"
   ]
  },
  {
   "cell_type": "code",
   "execution_count": null,
   "metadata": {},
   "outputs": [],
   "source": [
    "a = 0\n",
    "b = 1 \n",
    "if a<b:\n",
    "    print('Hey')"
   ]
  },
  {
   "cell_type": "code",
   "execution_count": 23,
   "metadata": {},
   "outputs": [
    {
     "name": "stdout",
     "output_type": "stream",
     "text": [
      "True\n"
     ]
    }
   ],
   "source": [
    "a = 10>5\n",
    "print(a)"
   ]
  },
  {
   "cell_type": "markdown",
   "metadata": {},
   "source": [
    "#### Sequence In Phyton \n",
    "\n",
    "    # str          - Another Notebook \n",
    "    # bytes\n",
    "    # bytearray\n",
    "    # list         -  Another Notebook \n",
    "    # tuple        -  Another Notebook \n",
    "    # range\n"
   ]
  },
  {
   "cell_type": "markdown",
   "metadata": {},
   "source": [
    "####  Bytes (Numbers should be in between 0 -255, No negative Number)"
   ]
  },
  {
   "cell_type": "code",
   "execution_count": 31,
   "metadata": {},
   "outputs": [
    {
     "name": "stdout",
     "output_type": "stream",
     "text": [
      "b'\\n\\x14\\x1e(2\\xff'\n",
      "10\n"
     ]
    }
   ],
   "source": [
    "n = (10,20,30,40,50,255)\n",
    "print(bytes(n))\n",
    "print(n[0])"
   ]
  },
  {
   "cell_type": "code",
   "execution_count": 38,
   "metadata": {},
   "outputs": [
    {
     "name": "stdout",
     "output_type": "stream",
     "text": [
      "b'\\n\\x14\\x1e(2\\xff'\n"
     ]
    }
   ],
   "source": [
    "n = 10,20,30,40,50,255\n",
    "print(bytes(n))"
   ]
  },
  {
   "cell_type": "markdown",
   "metadata": {},
   "source": [
    "- There is a indexing in bytes but doens't support replacement. "
   ]
  },
  {
   "cell_type": "code",
   "execution_count": 44,
   "metadata": {},
   "outputs": [
    {
     "ename": "TypeError",
     "evalue": "'tuple' object does not support item assignment",
     "output_type": "error",
     "traceback": [
      "\u001b[1;31m---------------------------------------------------------------------------\u001b[0m",
      "\u001b[1;31mTypeError\u001b[0m                                 Traceback (most recent call last)",
      "\u001b[1;32m<ipython-input-44-69300dad275c>\u001b[0m in \u001b[0;36m<module>\u001b[1;34m\u001b[0m\n\u001b[1;32m----> 1\u001b[1;33m \u001b[0mn\u001b[0m\u001b[1;33m[\u001b[0m\u001b[1;36m0\u001b[0m\u001b[1;33m]\u001b[0m\u001b[1;33m=\u001b[0m\u001b[1;36m25\u001b[0m\u001b[1;33m\u001b[0m\u001b[1;33m\u001b[0m\u001b[0m\n\u001b[0m",
      "\u001b[1;31mTypeError\u001b[0m: 'tuple' object does not support item assignment"
     ]
    }
   ],
   "source": [
    "n[0]=25"
   ]
  },
  {
   "cell_type": "markdown",
   "metadata": {},
   "source": [
    " #### Bytearay (Numbers should be in between 0 -255, No negative Number)\n",
    " \n",
    " - Same like Bytes but they are mutable.. can be replaced by other number. "
   ]
  },
  {
   "cell_type": "code",
   "execution_count": 39,
   "metadata": {},
   "outputs": [
    {
     "name": "stdout",
     "output_type": "stream",
     "text": [
      "bytearray(b'\\n\\x14\\x1e(2')\n"
     ]
    }
   ],
   "source": [
    "x = [10,20,30,40,50]\n",
    "print(bytearray(x))"
   ]
  },
  {
   "cell_type": "code",
   "execution_count": 43,
   "metadata": {},
   "outputs": [
    {
     "name": "stdout",
     "output_type": "stream",
     "text": [
      "[100, 20, 3, 40]\n"
     ]
    }
   ],
   "source": [
    "x[0]=100\n",
    "print(x)"
   ]
  },
  {
   "cell_type": "markdown",
   "metadata": {},
   "source": [
    "#### Range Datatype \n",
    "- It represents sequence of numbers\n",
    "- it is used for repeating a fOR loop for specific number of times"
   ]
  },
  {
   "cell_type": "code",
   "execution_count": 45,
   "metadata": {},
   "outputs": [
    {
     "name": "stdout",
     "output_type": "stream",
     "text": [
      "Mahak\n",
      "Mahak\n",
      "Mahak\n",
      "Mahak\n",
      "Mahak\n",
      "Mahak\n",
      "Mahak\n",
      "Mahak\n",
      "Mahak\n",
      "Mahak\n"
     ]
    }
   ],
   "source": [
    "for i in range(10):\n",
    "    print('Mahak')"
   ]
  },
  {
   "cell_type": "code",
   "execution_count": 46,
   "metadata": {},
   "outputs": [
    {
     "name": "stdout",
     "output_type": "stream",
     "text": [
      "(30, 40, 2)\n",
      "30\n",
      "32\n",
      "34\n",
      "36\n",
      "38\n"
     ]
    }
   ],
   "source": [
    "r = (30,40,2)\n",
    "print(r)\n",
    "for i in range(30,40,2):\n",
    "    print(i)"
   ]
  },
  {
   "cell_type": "markdown",
   "metadata": {},
   "source": [
    "\n",
    "### Sets :\n",
    "- It is an un ordered collection of elements like sets in mathematics. \n",
    "- Order of elements is not maintained in list\n",
    "- SET DATA TYPE\n",
    "- FROZEN SET DATA TYPE\n",
    "- sets doesnt allow any duplicates"
   ]
  },
  {
   "cell_type": "code",
   "execution_count": 50,
   "metadata": {},
   "outputs": [
    {
     "name": "stdout",
     "output_type": "stream",
     "text": [
      "{40, 10, 20, 30}\n",
      "{40, 10, 20, 30}\n"
     ]
    }
   ],
   "source": [
    "x = {10,20,30,40}\n",
    "print(x)\n",
    "\n",
    "s = set([10,20,30,40])\n",
    "print(s)"
   ]
  },
  {
   "cell_type": "code",
   "execution_count": 54,
   "metadata": {},
   "outputs": [
    {
     "name": "stdout",
     "output_type": "stream",
     "text": [
      "{'12321321', 40, 10, 20, 30}\n"
     ]
    }
   ],
   "source": [
    "x.update(['12321321']) # we can add & remove in the set. \n",
    "print(x)"
   ]
  },
  {
   "cell_type": "code",
   "execution_count": 52,
   "metadata": {},
   "outputs": [
    {
     "name": "stdout",
     "output_type": "stream",
     "text": [
      "{40, 10, 20, 30}\n"
     ]
    }
   ],
   "source": [
    "x.remove('12321321')\n",
    "print(x)"
   ]
  },
  {
   "cell_type": "code",
   "execution_count": 57,
   "metadata": {},
   "outputs": [
    {
     "name": "stdout",
     "output_type": "stream",
     "text": [
      "frozenset({40, 10, 20, 30})\n"
     ]
    }
   ],
   "source": [
    "s = set([10,20,30,40])\n",
    "print(frozenset(s))"
   ]
  },
  {
   "cell_type": "code",
   "execution_count": 6,
   "metadata": {},
   "outputs": [
    {
     "data": {
      "text/plain": [
       "dict"
      ]
     },
     "execution_count": 6,
     "metadata": {},
     "output_type": "execute_result"
    }
   ],
   "source": [
    "type(d)"
   ]
  },
  {
   "cell_type": "code",
   "execution_count": 18,
   "metadata": {},
   "outputs": [
    {
     "name": "stdout",
     "output_type": "stream",
     "text": [
      "{1: 33, 2: 33}\n"
     ]
    }
   ],
   "source": [
    "# if key repeats.. it always takes the last value.. as per below example.\n",
    "d = {1:'Mahak',\n",
    "     2:33,\n",
    "    1:33}\n",
    "print(d)"
   ]
  },
  {
   "cell_type": "markdown",
   "metadata": {},
   "source": [
    "#### Literals Data Type\n",
    "- is a constant value that is stored in a variable. Literals means what kind of value you hold in variable.\n",
    "- Ex. a = 'Mahak' - Mahak is object & literals and a is variable.\n",
    "- Three type of literals\n",
    "- Numeric / Boolean / String + literals\n",
    "- Numeric Literals - int/float/binary/hexa/octal/complex"
   ]
  },
  {
   "cell_type": "code",
   "execution_count": 23,
   "metadata": {},
   "outputs": [
    {
     "name": "stdout",
     "output_type": "stream",
     "text": [
      "-14\n"
     ]
    }
   ],
   "source": [
    "# Integar Literals - all the values without any decimal but positive and negative both can be accepted. \n",
    "x=450\n",
    "x=-14\n",
    "print(x)"
   ]
  },
  {
   "cell_type": "code",
   "execution_count": 25,
   "metadata": {},
   "outputs": [
    {
     "name": "stdout",
     "output_type": "stream",
     "text": [
      "True\n",
      "False\n",
      "True\n"
     ]
    }
   ],
   "source": [
    "# Boolean Literals \n",
    "X=True\n",
    "print(X)\n",
    "\n",
    "X=False\n",
    "print(X)\n",
    "\n",
    "x=True or False\n",
    "print(x)\n"
   ]
  },
  {
   "cell_type": "code",
   "execution_count": 58,
   "metadata": {},
   "outputs": [
    {
     "name": "stdout",
     "output_type": "stream",
     "text": [
      "Mahak is learning phyton online\n",
      "Mahak is learning phyton \n",
      " online\n",
      "Mahak is learning phyton \b online\n"
     ]
    }
   ],
   "source": [
    "# String Literals - how to divide the sentence/string into two lines - use \\n\n",
    "\n",
    "x = 'Mahak is learning phyton online'\n",
    "print(x)\n",
    "\n",
    "x = 'Mahak is learning phyton \\n online'\n",
    "print(x)\n",
    "\n",
    "# once we divide but then again want to write in one complete sentence\n",
    "x = 'Mahak is learning phyton \\b online'\n",
    "print(x)"
   ]
  },
  {
   "cell_type": "markdown",
   "metadata": {},
   "source": [
    "#### User defined Literal\n",
    "\n",
    "- We as users or programmers, defined datatypes. \n",
    "- like array,class, module those are created by users/programmers."
   ]
  },
  {
   "cell_type": "code",
   "execution_count": 59,
   "metadata": {},
   "outputs": [
    {
     "data": {
      "text/plain": [
       "3.141592653589793"
      ]
     },
     "execution_count": 59,
     "metadata": {},
     "output_type": "execute_result"
    }
   ],
   "source": [
    "# constant in Python: \n",
    "pie = 22/7.\n",
    "\n",
    "import math\n",
    "math.pi"
   ]
  },
  {
   "cell_type": "markdown",
   "metadata": {},
   "source": [
    "#### Reserved Words & Key Words\n",
    "\n",
    "- These words have already meaning in python language so we shouldn't use as variable. \n",
    "- for, from, not,or, global,if, else, finally, break, class,continue, as , return \n"
   ]
  }
 ],
 "metadata": {
  "kernelspec": {
   "display_name": "Python 3",
   "language": "python",
   "name": "python3"
  },
  "language_info": {
   "codemirror_mode": {
    "name": "ipython",
    "version": 3
   },
   "file_extension": ".py",
   "mimetype": "text/x-python",
   "name": "python",
   "nbconvert_exporter": "python",
   "pygments_lexer": "ipython3",
   "version": "3.8.5"
  }
 },
 "nbformat": 4,
 "nbformat_minor": 4
}
