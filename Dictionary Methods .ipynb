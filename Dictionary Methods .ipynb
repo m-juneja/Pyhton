{
 "cells": [
  {
   "cell_type": "code",
   "execution_count": 1,
   "metadata": {},
   "outputs": [
    {
     "name": "stdout",
     "output_type": "stream",
     "text": [
      "<class 'dict'>\n",
      "{'Name': 'priya', 'id': 23, 'salary': 1000000000}\n",
      "Keys of dictionary are =>  dict_keys(['Name', 'id', 'salary'])\n",
      "Values of dictionary are =>  dict_values(['priya', 23, 1000000000])\n"
     ]
    }
   ],
   "source": [
    "# create a dictionary :\n",
    "d1={'Name':'priya',\n",
    "    'id':23,\n",
    "   'salary':1000000000}\n",
    "\n",
    "print(type(d1))\n",
    "print(d1)\n",
    "print(\"Keys of dictionary are => \",d1.keys())\n",
    "print(\"Values of dictionary are => \",d1.values())"
   ]
  },
  {
   "cell_type": "code",
   "execution_count": 2,
   "metadata": {},
   "outputs": [
    {
     "data": {
      "text/plain": [
       "'priya'"
      ]
     },
     "execution_count": 2,
     "metadata": {},
     "output_type": "execute_result"
    }
   ],
   "source": [
    "d1['Name']"
   ]
  },
  {
   "cell_type": "code",
   "execution_count": 3,
   "metadata": {},
   "outputs": [
    {
     "data": {
      "text/plain": [
       "3"
      ]
     },
     "execution_count": 3,
     "metadata": {},
     "output_type": "execute_result"
    }
   ],
   "source": [
    "len(d1)"
   ]
  },
  {
   "cell_type": "code",
   "execution_count": 4,
   "metadata": {},
   "outputs": [
    {
     "data": {
      "text/plain": [
       "{'Name': 'Vikas', 'id': 23, 'salary': 1000000000}"
      ]
     },
     "execution_count": 4,
     "metadata": {},
     "output_type": "execute_result"
    }
   ],
   "source": [
    "d1['Name']='Vikas'\n",
    "d1"
   ]
  },
  {
   "cell_type": "code",
   "execution_count": 5,
   "metadata": {},
   "outputs": [
    {
     "data": {
      "text/plain": [
       "False"
      ]
     },
     "execution_count": 5,
     "metadata": {},
     "output_type": "execute_result"
    }
   ],
   "source": [
    "'Name' not in d1"
   ]
  },
  {
   "cell_type": "markdown",
   "metadata": {},
   "source": [
    "# Methods of dictionaries : \n",
    "- clear() : remove all the key-value pairs from dictioanry \n",
    "- copy()  : d2=d1.copy() : copy elements from d1 to d2\n",
    "- fromkeys() : create a new dictionary with keys from sequence\n",
    "- items() : if you want to iterate over dictionary and you want some key-values pairs\n",
    "- keys() : you can extract all the keys from dicionary \n",
    "- values() : you can extract values from dictionaries\n",
    "- update() : add elements from dictionary Y1 to X1(already created one) \n",
    "- pop(K,v) : it can remove certain Key and its values from the dictonary . It will return value also  . If that key is not found you ll get key error\n",
    "- setdefault(k,v) : if key is not found , then you can create a default key value pair . "
   ]
  },
  {
   "cell_type": "code",
   "execution_count": 6,
   "metadata": {},
   "outputs": [],
   "source": [
    "d1.clear()"
   ]
  },
  {
   "cell_type": "code",
   "execution_count": 7,
   "metadata": {},
   "outputs": [
    {
     "data": {
      "text/plain": [
       "{}"
      ]
     },
     "execution_count": 7,
     "metadata": {},
     "output_type": "execute_result"
    }
   ],
   "source": [
    "d1"
   ]
  },
  {
   "cell_type": "code",
   "execution_count": 8,
   "metadata": {},
   "outputs": [
    {
     "data": {
      "text/plain": [
       "{}"
      ]
     },
     "execution_count": 8,
     "metadata": {},
     "output_type": "execute_result"
    }
   ],
   "source": [
    "d2=d1.copy()\n",
    "d2"
   ]
  },
  {
   "cell_type": "code",
   "execution_count": 21,
   "metadata": {},
   "outputs": [
    {
     "data": {
      "text/plain": [
       "{'Name': 100, 'class': 100, 'school': 100}"
      ]
     },
     "execution_count": 21,
     "metadata": {},
     "output_type": "execute_result"
    }
   ],
   "source": [
    "s=('Name','class','school')\n",
    "y=100\n",
    "di= dict.fromkeys(s,y)\n",
    "di"
   ]
  },
  {
   "cell_type": "code",
   "execution_count": 17,
   "metadata": {},
   "outputs": [
    {
     "data": {
      "text/plain": [
       "dict_items([])"
      ]
     },
     "execution_count": 17,
     "metadata": {},
     "output_type": "execute_result"
    }
   ],
   "source": [
    "di.items()"
   ]
  },
  {
   "cell_type": "code",
   "execution_count": 22,
   "metadata": {},
   "outputs": [
    {
     "name": "stdout",
     "output_type": "stream",
     "text": [
      "Name 100\n",
      "class 100\n",
      "school 100\n"
     ]
    }
   ],
   "source": [
    "for i,j in di.items():\n",
    "    print(i , j)"
   ]
  },
  {
   "cell_type": "code",
   "execution_count": 19,
   "metadata": {},
   "outputs": [],
   "source": [
    "import pandas as pd"
   ]
  },
  {
   "cell_type": "code",
   "execution_count": null,
   "metadata": {},
   "outputs": [],
   "source": [
    "df1=pd.DataFrame(\n",
    "                {\n",
    "                 'Name':['Vikas','Priya','Mehak'],\n",
    "                 'Class':[9,10,11],\n",
    "                 'Phone':[12,23,12]\n",
    "                \n",
    "                }\n",
    "                \n",
    "                )"
   ]
  },
  {
   "cell_type": "code",
   "execution_count": null,
   "metadata": {},
   "outputs": [],
   "source": [
    "df1"
   ]
  },
  {
   "cell_type": "code",
   "execution_count": 23,
   "metadata": {},
   "outputs": [],
   "source": [
    "df2={'Name':['Vikas','Priya','Mehak'],\n",
    "                 'Class':[9,10,11],\n",
    "                 'Phone':[12,23,12]\n",
    "                \n",
    "                }"
   ]
  },
  {
   "cell_type": "code",
   "execution_count": 24,
   "metadata": {},
   "outputs": [
    {
     "name": "stdout",
     "output_type": "stream",
     "text": [
      "Name ['Vikas', 'Priya', 'Mehak']\n",
      "Class [9, 10, 11]\n",
      "Phone [12, 23, 12]\n"
     ]
    }
   ],
   "source": [
    "for i,j in df2.items():\n",
    "    print(i , j)"
   ]
  },
  {
   "cell_type": "code",
   "execution_count": 25,
   "metadata": {},
   "outputs": [
    {
     "data": {
      "text/plain": [
       "dict"
      ]
     },
     "execution_count": 25,
     "metadata": {},
     "output_type": "execute_result"
    }
   ],
   "source": [
    "type(df2)"
   ]
  },
  {
   "cell_type": "code",
   "execution_count": 43,
   "metadata": {},
   "outputs": [],
   "source": [
    "df2.update({'Country':['Ind','UK','Spain']})"
   ]
  },
  {
   "cell_type": "code",
   "execution_count": 27,
   "metadata": {},
   "outputs": [
    {
     "data": {
      "text/html": [
       "<div>\n",
       "<style scoped>\n",
       "    .dataframe tbody tr th:only-of-type {\n",
       "        vertical-align: middle;\n",
       "    }\n",
       "\n",
       "    .dataframe tbody tr th {\n",
       "        vertical-align: top;\n",
       "    }\n",
       "\n",
       "    .dataframe thead th {\n",
       "        text-align: right;\n",
       "    }\n",
       "</style>\n",
       "<table border=\"1\" class=\"dataframe\">\n",
       "  <thead>\n",
       "    <tr style=\"text-align: right;\">\n",
       "      <th></th>\n",
       "      <th>Name</th>\n",
       "      <th>Class</th>\n",
       "      <th>Phone</th>\n",
       "      <th>Country</th>\n",
       "    </tr>\n",
       "  </thead>\n",
       "  <tbody>\n",
       "    <tr>\n",
       "      <th>0</th>\n",
       "      <td>Vikas</td>\n",
       "      <td>9</td>\n",
       "      <td>12</td>\n",
       "      <td>Ind</td>\n",
       "    </tr>\n",
       "    <tr>\n",
       "      <th>1</th>\n",
       "      <td>Priya</td>\n",
       "      <td>10</td>\n",
       "      <td>23</td>\n",
       "      <td>UK</td>\n",
       "    </tr>\n",
       "    <tr>\n",
       "      <th>2</th>\n",
       "      <td>Mehak</td>\n",
       "      <td>11</td>\n",
       "      <td>12</td>\n",
       "      <td>Spain</td>\n",
       "    </tr>\n",
       "  </tbody>\n",
       "</table>\n",
       "</div>"
      ],
      "text/plain": [
       "    Name  Class  Phone Country\n",
       "0  Vikas      9     12     Ind\n",
       "1  Priya     10     23      UK\n",
       "2  Mehak     11     12   Spain"
      ]
     },
     "execution_count": 27,
     "metadata": {},
     "output_type": "execute_result"
    }
   ],
   "source": [
    "pd.DataFrame(df2)"
   ]
  },
  {
   "cell_type": "code",
   "execution_count": 28,
   "metadata": {},
   "outputs": [
    {
     "data": {
      "text/plain": [
       "{'Name': ['Vikas', 'Priya', 'Mehak'],\n",
       " 'Class': [9, 10, 11],\n",
       " 'Phone': [12, 23, 12],\n",
       " 'Country': ['Ind', 'UK', 'Spain']}"
      ]
     },
     "execution_count": 28,
     "metadata": {},
     "output_type": "execute_result"
    }
   ],
   "source": [
    "df2"
   ]
  },
  {
   "cell_type": "code",
   "execution_count": 29,
   "metadata": {},
   "outputs": [
    {
     "data": {
      "text/plain": [
       "['Vikas', 'Priya', 'Mehak']"
      ]
     },
     "execution_count": 29,
     "metadata": {},
     "output_type": "execute_result"
    }
   ],
   "source": [
    "df2.setdefault('Name')"
   ]
  },
  {
   "cell_type": "code",
   "execution_count": 30,
   "metadata": {},
   "outputs": [
    {
     "name": "stdout",
     "output_type": "stream",
     "text": [
      "Enter the total keys you want to create ??? \n",
      "5\n",
      "Enter the Key my child name\n",
      "Enter its value now mahak\n",
      "Enter the Key my child age\n",
      "Enter its value now 23\n",
      "Enter the Key my child school\n",
      "Enter its value now kkr\n",
      "Enter the Key my child city\n",
      "Enter its value now vlc\n",
      "Enter the Key my child grade\n",
      "Enter its value now 16\n",
      "final dicitonary is :  {'name': 'mahak', 'age': '23', 'school': 'kkr', 'city': 'vlc', 'grade': '16'}\n"
     ]
    }
   ],
   "source": [
    "# create a program to get the dictionary from users and display it here.\n",
    "x={}\n",
    "print(\"Enter the total keys you want to create ??? \")\n",
    "n=int(input())  # how many keys we want to create\n",
    "\n",
    "for i in range(n):\n",
    "    print(\"Enter the Key my child \" , end='')\n",
    "    k=input()\n",
    "    print(\"Enter its value now \",end='')\n",
    "    v=(input())\n",
    "    x.update({k:v})\n",
    "    \n",
    "    \n",
    "print(\"final dicitonary is : \" , x)"
   ]
  },
  {
   "cell_type": "code",
   "execution_count": 31,
   "metadata": {},
   "outputs": [
    {
     "data": {
      "text/plain": [
       "{'Name': ['Vikas', 'Priya', 'Mehak'],\n",
       " 'Class': [9, 10, 11],\n",
       " 'Phone': [12, 23, 12],\n",
       " 'Country': ['Ind', 'UK', 'Spain']}"
      ]
     },
     "execution_count": 31,
     "metadata": {},
     "output_type": "execute_result"
    }
   ],
   "source": [
    "df2"
   ]
  },
  {
   "cell_type": "markdown",
   "metadata": {},
   "source": [
    "dict.items() : when you iterate over key , value pairs\n",
    "dict.iterrows() : iterate over rows as ( index , series) "
   ]
  },
  {
   "cell_type": "code",
   "execution_count": 32,
   "metadata": {},
   "outputs": [
    {
     "name": "stdout",
     "output_type": "stream",
     "text": [
      "Key is ==>  Name  Value is  ['Vikas', 'Priya', 'Mehak']\n",
      "Key is ==>  Class  Value is  [9, 10, 11]\n",
      "Key is ==>  Phone  Value is  [12, 23, 12]\n",
      "Key is ==>  Country  Value is  ['Ind', 'UK', 'Spain']\n"
     ]
    }
   ],
   "source": [
    "for k,v in df2.items():\n",
    "    print(\"Key is ==> \",k,\" Value is \",v)"
   ]
  },
  {
   "cell_type": "code",
   "execution_count": 33,
   "metadata": {},
   "outputs": [],
   "source": [
    "df3=pd.DataFrame(df2)"
   ]
  },
  {
   "cell_type": "code",
   "execution_count": 34,
   "metadata": {},
   "outputs": [
    {
     "name": "stdout",
     "output_type": "stream",
     "text": [
      "0 Name       Vikas\n",
      "Class          9\n",
      "Phone         12\n",
      "Country      Ind\n",
      "Name: 0, dtype: object\n",
      "1 Name       Priya\n",
      "Class         10\n",
      "Phone         23\n",
      "Country       UK\n",
      "Name: 1, dtype: object\n",
      "2 Name       Mehak\n",
      "Class         11\n",
      "Phone         12\n",
      "Country    Spain\n",
      "Name: 2, dtype: object\n"
     ]
    }
   ],
   "source": [
    "for k,v in df3.iterrows():\n",
    "    print(k,v)"
   ]
  },
  {
   "cell_type": "code",
   "execution_count": 35,
   "metadata": {},
   "outputs": [
    {
     "data": {
      "text/plain": [
       "{11: 'Vikas', 1: 'priya', 5: 'mehak'}"
      ]
     },
     "execution_count": 35,
     "metadata": {},
     "output_type": "execute_result"
    }
   ],
   "source": [
    "# SORTING ON DICTIONARY : \n",
    "cls={11:'Vikas',\n",
    "    1:'priya',\n",
    "    5:'mehak'}\n",
    "\n",
    "cls"
   ]
  },
  {
   "cell_type": "code",
   "execution_count": 36,
   "metadata": {},
   "outputs": [
    {
     "data": {
      "text/plain": [
       "[(1, 'priya'), (5, 'mehak'), (11, 'Vikas')]"
      ]
     },
     "execution_count": 36,
     "metadata": {},
     "output_type": "execute_result"
    }
   ],
   "source": [
    "sorted(cls.items(),key=lambda t:t[0])"
   ]
  },
  {
   "cell_type": "code",
   "execution_count": 37,
   "metadata": {},
   "outputs": [],
   "source": [
    "from collections import OrderedDict"
   ]
  },
  {
   "cell_type": "code",
   "execution_count": 38,
   "metadata": {},
   "outputs": [
    {
     "name": "stdout",
     "output_type": "stream",
     "text": [
      "11\n",
      "1\n",
      "5\n"
     ]
    }
   ],
   "source": [
    "cls1=OrderedDict(cls)\n",
    "for i in cls1:\n",
    "    print(i)"
   ]
  },
  {
   "cell_type": "code",
   "execution_count": 39,
   "metadata": {},
   "outputs": [
    {
     "data": {
      "text/plain": [
       "OrderedDict([('Vikas', 'India'), ('Mehak', 'Spain'), ('Priya', 'England')])"
      ]
     },
     "execution_count": 39,
     "metadata": {},
     "output_type": "execute_result"
    }
   ],
   "source": [
    "y=OrderedDict([('Vikas','India'),\n",
    "              ('Mehak','Spain'),\n",
    "              ('Priya','England')])\n",
    "\n",
    "y\n"
   ]
  },
  {
   "cell_type": "code",
   "execution_count": 40,
   "metadata": {},
   "outputs": [
    {
     "data": {
      "text/plain": [
       "collections.OrderedDict"
      ]
     },
     "execution_count": 40,
     "metadata": {},
     "output_type": "execute_result"
    }
   ],
   "source": [
    "type(y)"
   ]
  },
  {
   "cell_type": "code",
   "execution_count": 41,
   "metadata": {},
   "outputs": [
    {
     "name": "stdout",
     "output_type": "stream",
     "text": [
      "Vikas\n",
      "Mehak\n",
      "Priya\n"
     ]
    }
   ],
   "source": [
    "for i in y:\n",
    "    print(i)"
   ]
  },
  {
   "cell_type": "code",
   "execution_count": 42,
   "metadata": {},
   "outputs": [
    {
     "data": {
      "text/plain": [
       "{'Vikas': 'India', 'mehak': 'spain', 'Priya': 'England'}"
      ]
     },
     "execution_count": 42,
     "metadata": {},
     "output_type": "execute_result"
    }
   ],
   "source": [
    "# can you convert lists to dictionaries : ?\n",
    "countries=['India','spain','England']\n",
    "name=['Vikas','mehak','Priya']\n",
    "z=zip(name,countries)\n",
    "z=dict(z)\n",
    "z"
   ]
  },
  {
   "cell_type": "code",
   "execution_count": null,
   "metadata": {},
   "outputs": [],
   "source": []
  },
  {
   "cell_type": "code",
   "execution_count": null,
   "metadata": {},
   "outputs": [],
   "source": []
  },
  {
   "cell_type": "code",
   "execution_count": null,
   "metadata": {},
   "outputs": [],
   "source": []
  },
  {
   "cell_type": "code",
   "execution_count": null,
   "metadata": {},
   "outputs": [],
   "source": []
  },
  {
   "cell_type": "code",
   "execution_count": null,
   "metadata": {},
   "outputs": [],
   "source": []
  }
 ],
 "metadata": {
  "kernelspec": {
   "display_name": "Python 3",
   "language": "python",
   "name": "python3"
  },
  "language_info": {
   "codemirror_mode": {
    "name": "ipython",
    "version": 3
   },
   "file_extension": ".py",
   "mimetype": "text/x-python",
   "name": "python",
   "nbconvert_exporter": "python",
   "pygments_lexer": "ipython3",
   "version": "3.8.5"
  }
 },
 "nbformat": 4,
 "nbformat_minor": 2
}
