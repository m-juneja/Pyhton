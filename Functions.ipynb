{
 "cells": [
  {
   "cell_type": "markdown",
   "metadata": {},
   "source": [
    "## Functions\n",
    "- Reusability \n",
    "- Moduarity for programming\n",
    "- Code maintenance \n",
    "- Error Debuging is easier\n",
    "- It reduces the length of program "
   ]
  },
  {
   "cell_type": "markdown",
   "metadata": {},
   "source": [
    "def function_name():\n",
    "    statemetns \n",
    "    statemts2\n",
    "    variable_name=statetens+statem2\n",
    "    return variable_name\n",
    "    \n",
    "    \n",
    "def function_name():\n",
    "    statemetns \n",
    "    statemts2\n",
    "    variable_name=statetens+statem2"
   ]
  },
  {
   "cell_type": "code",
   "execution_count": null,
   "metadata": {},
   "outputs": [],
   "source": [
    "# sum two numbers\n",
    "\n",
    "def sum_twonumber(a,b):\n",
    "    return(a+b)\n",
    "\n",
    "c=sum_twonumber(10,20)\n",
    "print(c)"
   ]
  },
  {
   "cell_type": "code",
   "execution_count": null,
   "metadata": {},
   "outputs": [],
   "source": [
    "# sum two numbers\n",
    "\n",
    "def sum_twonumber(a,b):\n",
    "    '''\n",
    "    This program adds any two numbers given by a user \n",
    "    a: First integer values from a user\n",
    "    b: second integer value from a user\n",
    "    return : addition of two numbers\n",
    "    '''\n",
    "    return(a+b)\n",
    "\n",
    "c=sum_twonumber(10,20)\n",
    "print(c)\n",
    "\n",
    "######\n",
    "\n",
    "def sum_twonumber(a=100,b=0):\n",
    "    return(a+b)\n",
    "\n",
    "c=sum_twonumber()\n",
    "print(c)\n",
    "\n",
    "######\n",
    "\n",
    "def sum_twonumber(a=100,b=0):\n",
    "    return(a+b)\n",
    "\n",
    "c=sum_twonumber(10,20)\n",
    "print(c)\n",
    "\n",
    "######\n",
    "\n",
    "def sum_twonumber(a=100,b=60):\n",
    "    return(a+b)\n",
    "\n",
    "c=sum_twonumber(10,)\n",
    "print(c)"
   ]
  },
  {
   "cell_type": "code",
   "execution_count": null,
   "metadata": {},
   "outputs": [],
   "source": [
    "def sum_numbers(a,b):\n",
    "    print('three variables')\n",
    "    return(a+b,a-b,a*b)\n",
    "\n",
    "x1,x2,x3=sum_numbers(10,20)\n",
    "print(x1,x2,x3)"
   ]
  },
  {
   "cell_type": "code",
   "execution_count": null,
   "metadata": {},
   "outputs": [],
   "source": [
    "def sum_numbers(a,b):\n",
    "    print('sum')\n",
    "    return 100\n",
    "sum_numbers(10,20)"
   ]
  },
  {
   "cell_type": "code",
   "execution_count": null,
   "metadata": {},
   "outputs": [],
   "source": [
    "# Weather the number is even \n",
    "\n",
    "x=120\n",
    "x%2==0\n",
    "\n",
    "def even_odd(a):\n",
    "    '''\n",
    "    objective: even or odd \n",
    "    num: user input \n",
    "    output: print statemnts\n",
    "     '''\n",
    "    if a%2==0:\n",
    "        return(a)\n",
    "    else:\n",
    "        print('its odd')\n",
    "\n",
    "even_odd(7)"
   ]
  },
  {
   "cell_type": "code",
   "execution_count": null,
   "metadata": {},
   "outputs": [],
   "source": [
    "lis = [10,20,30,25]\n",
    "def odd_even(lis):\n",
    "    for i in lis:\n",
    "        if i%2==0:\n",
    "            print('its even')\n",
    "        else:\n",
    "            print('its odd')\n",
    "\n",
    "odd_even(lis)"
   ]
  },
  {
   "cell_type": "code",
   "execution_count": null,
   "metadata": {},
   "outputs": [],
   "source": [
    "# Weather number is prime or not\n",
    "\n",
    "def prime_number(a):\n",
    "    if a==0 and a==1:\n",
    "        print('not prime')\n",
    "    elif a==2:\n",
    "        print('its a prime')\n",
    "    elif a%2==0:\n",
    "        print('its not a prime')\n",
    "    else:\n",
    "        print('its a prime number')\n",
    "        \n",
    "prime_number(8)"
   ]
  },
  {
   "cell_type": "code",
   "execution_count": null,
   "metadata": {},
   "outputs": [],
   "source": [
    "lis=[10,23,123,234,2,23,23,23,4,5434]\n",
    "for i in lis:\n",
    "    print(\"Checking for the number ==> \",i)\n",
    "    even_odd(i)\n",
    "    print(\"*\"*100)"
   ]
  },
  {
   "cell_type": "code",
   "execution_count": null,
   "metadata": {},
   "outputs": [],
   "source": [
    "def display(str1):\n",
    "    def message():\n",
    "        return 'hello '\n",
    "    y=message()+str1\n",
    "    return y"
   ]
  },
  {
   "cell_type": "code",
   "execution_count": null,
   "metadata": {},
   "outputs": [],
   "source": [
    "x1=(display(\"Vikas\"))\n",
    "x1"
   ]
  },
  {
   "cell_type": "code",
   "execution_count": null,
   "metadata": {},
   "outputs": [],
   "source": [
    "print((display(\"Vikas\")))"
   ]
  },
  {
   "cell_type": "code",
   "execution_count": null,
   "metadata": {},
   "outputs": [],
   "source": [
    "def modify(x):\n",
    "    return(id(x))\n",
    "modify(15)"
   ]
  },
  {
   "cell_type": "code",
   "execution_count": null,
   "metadata": {},
   "outputs": [],
   "source": [
    "def modify(x):\n",
    "    x=15\n",
    "    return(id(x))\n",
    "modify(x)"
   ]
  },
  {
   "cell_type": "code",
   "execution_count": null,
   "metadata": {},
   "outputs": [],
   "source": [
    "def modify1(x):\n",
    "    x=15\n",
    "    print('Start here')\n",
    "    print(x,id(x))\n",
    "    print('end here')"
   ]
  },
  {
   "cell_type": "code",
   "execution_count": null,
   "metadata": {},
   "outputs": [],
   "source": [
    "x=200\n",
    "modify1(x)\n",
    "print(x,id(x))"
   ]
  },
  {
   "cell_type": "code",
   "execution_count": null,
   "metadata": {},
   "outputs": [],
   "source": [
    "li = [10,20,30]\n",
    "def modify_list(li):\n",
    "    li.append(9)\n",
    "    print(li,id(li))"
   ]
  },
  {
   "cell_type": "code",
   "execution_count": null,
   "metadata": {},
   "outputs": [],
   "source": [
    "li=[20,30,40]\n",
    "modify_list(li)\n",
    "# list is mutable so the modified version is available. "
   ]
  },
  {
   "cell_type": "code",
   "execution_count": null,
   "metadata": {},
   "outputs": [],
   "source": [
    "def modify_list(lst):\n",
    "    lst.append(9)\n",
    "    print(lst,id(lst))"
   ]
  },
  {
   "cell_type": "code",
   "execution_count": null,
   "metadata": {},
   "outputs": [],
   "source": [
    "l1=[1,3,4,5]\n",
    "modify_list(l1)\n",
    "print(l1,id(l1))"
   ]
  },
  {
   "cell_type": "markdown",
   "metadata": {},
   "source": [
    "#### functions arguments : \n",
    " - positional arguments\n",
    " - keyword arguments\n",
    " - default arguments\n",
    " - Variable length arguments "
   ]
  },
  {
   "cell_type": "code",
   "execution_count": null,
   "metadata": {},
   "outputs": [],
   "source": [
    "# Positional Arguments\n",
    "def attach(s1,s2):\n",
    "    s3=s1+s2\n",
    "    return ('Total string is',s3)\n",
    "\n",
    "attach('new',' Delhi')"
   ]
  },
  {
   "cell_type": "code",
   "execution_count": null,
   "metadata": {},
   "outputs": [],
   "source": [
    "# keyword argument\n",
    "def grocery_shopping(item,price):\n",
    "    print('Price = %.1f'%price)\n",
    "    print('item =%s'%item)\n",
    "\n",
    "grocery_shopping(item=' Sugar',price=10.234)"
   ]
  },
  {
   "cell_type": "code",
   "execution_count": null,
   "metadata": {},
   "outputs": [],
   "source": [
    "grocery_shopping(\"Sugar\",100.12)"
   ]
  },
  {
   "cell_type": "code",
   "execution_count": null,
   "metadata": {},
   "outputs": [],
   "source": [
    "grocery_shopping(price=100.12,item=\"Sugar\")"
   ]
  },
  {
   "cell_type": "code",
   "execution_count": null,
   "metadata": {},
   "outputs": [],
   "source": [
    "# default arguments\n",
    "# keyword arguments \n",
    "def grocery_shopping1(item , price=90):\n",
    "    print('Item = %s' %item)\n",
    "    print('Price = %.2f' %price)"
   ]
  },
  {
   "cell_type": "code",
   "execution_count": null,
   "metadata": {},
   "outputs": [],
   "source": [
    "grocery_shopping1(item='Mango',)"
   ]
  },
  {
   "cell_type": "code",
   "execution_count": null,
   "metadata": {},
   "outputs": [],
   "source": [
    "# Variable length arguments "
   ]
  },
  {
   "cell_type": "code",
   "execution_count": null,
   "metadata": {},
   "outputs": [],
   "source": [
    "def add_2(a,b,c):\n",
    "    return a+b+c\n",
    "\n",
    "add_2(2,3,5,3)"
   ]
  },
  {
   "cell_type": "markdown",
   "metadata": {},
   "source": [
    "def function_name(farg,*args):\n",
    "    body\n",
    "    body"
   ]
  },
  {
   "cell_type": "code",
   "execution_count": null,
   "metadata": {},
   "outputs": [],
   "source": [
    "x1=5\n",
    "sum1=0\n",
    "for i in range(x1):\n",
    "    sum1+=i\n",
    "sum1"
   ]
  },
  {
   "cell_type": "code",
   "execution_count": null,
   "metadata": {},
   "outputs": [],
   "source": [
    "def add_manynumbers(farg,*args):\n",
    "    print('farg number is', farg)\n",
    "    sum = 0\n",
    "    for i in args:\n",
    "        sum=sum+i\n",
    "    sum\n",
    "    return(farg + sum)"
   ]
  },
  {
   "cell_type": "code",
   "execution_count": null,
   "metadata": {},
   "outputs": [],
   "source": [
    "add_manynumbers(20,30,40,0,203,2232)"
   ]
  },
  {
   "cell_type": "code",
   "execution_count": null,
   "metadata": {},
   "outputs": [],
   "source": [
    "def display(farg,**kwargs):\n",
    "    for x,y in kwargs.items():\n",
    "        print('key ={},value={}'.format(x,y))"
   ]
  },
  {
   "cell_type": "code",
   "execution_count": null,
   "metadata": {},
   "outputs": [],
   "source": [
    "display(2,fruit='kiwi')"
   ]
  },
  {
   "cell_type": "code",
   "execution_count": null,
   "metadata": {},
   "outputs": [],
   "source": [
    "school={'name':\"Vikas\",\n",
    "       'school':\"Dav\",\n",
    "       'rollnumber':123,\n",
    "       'phone_number':782390238232\n",
    "       }\n"
   ]
  },
  {
   "cell_type": "code",
   "execution_count": null,
   "metadata": {},
   "outputs": [],
   "source": [
    "def data_School(prompt_message,**kwargs):\n",
    "    mesage=prompt_message\n",
    "    print(\"hello student : \",mesage)\n",
    "    keys_1=kwargs.keys()\n",
    "    for i in keys_1:\n",
    "        if i==\"rollnumber\":\n",
    "            #validaiton loop   \n",
    "        elif i=='phone_number':\n",
    "            #do something \n",
    "        elif i=='name':\n",
    "            # do something\n",
    "        elif i=='school':\n",
    "            # do something\n",
    "            "
   ]
  },
  {
   "cell_type": "code",
   "execution_count": null,
   "metadata": {},
   "outputs": [],
   "source": [
    "data_School(prompt_message=\"hi\",school=\"KV\",rolnumber=23232)"
   ]
  },
  {
   "cell_type": "markdown",
   "metadata": {},
   "source": [
    "#### LOCAL AND GLOBAL VARIABLES :\n",
    "- when you declare a variable inside a function it is called local variable\n",
    "- when you declare a variable outside a function that is global variable"
   ]
  },
  {
   "cell_type": "code",
   "execution_count": null,
   "metadata": {},
   "outputs": [],
   "source": [
    "def print_number(x):\n",
    "    x=10\n",
    "    print(x)\n",
    "    \n",
    "print_number(x)"
   ]
  },
  {
   "cell_type": "code",
   "execution_count": null,
   "metadata": {},
   "outputs": [],
   "source": [
    "x=100\n",
    "def print_number(x):\n",
    "    x=10\n",
    "    print(x)\n",
    "    \n",
    "print_number(x)"
   ]
  },
  {
   "cell_type": "code",
   "execution_count": null,
   "metadata": {},
   "outputs": [],
   "source": [
    "x=100\n",
    "def print_number(x):\n",
    "    x=10\n",
    "    print(x)\n",
    "    \n",
    "print_number(100)"
   ]
  },
  {
   "cell_type": "code",
   "execution_count": null,
   "metadata": {},
   "outputs": [],
   "source": [
    "x=100\n",
    "def print_number(x):\n",
    "    #x=10\n",
    "    print(x)\n",
    "    \n",
    "print_number(x)"
   ]
  },
  {
   "cell_type": "code",
   "execution_count": null,
   "metadata": {},
   "outputs": [],
   "source": [
    "a=1"
   ]
  },
  {
   "cell_type": "code",
   "execution_count": null,
   "metadata": {},
   "outputs": [],
   "source": [
    "def my_function():\n",
    "    z=2\n",
    "    print('a == ',a) # this is a global variable\n",
    "    print('z == ',z) # this is comong from inside the function "
   ]
  },
  {
   "cell_type": "code",
   "execution_count": null,
   "metadata": {},
   "outputs": [],
   "source": [
    "my_function()"
   ]
  },
  {
   "cell_type": "code",
   "execution_count": null,
   "metadata": {},
   "outputs": [],
   "source": [
    "print(a)\n",
    "print(z)\n",
    "# we can'r print the local variable until we don't call the function. "
   ]
  },
  {
   "cell_type": "code",
   "execution_count": null,
   "metadata": {},
   "outputs": [],
   "source": [
    "## Global keyword \n",
    "wy = 1500\n",
    "\n",
    "def my_function():\n",
    "    m = 10 \n",
    "    global ww\n",
    "    print('m ==',m)\n",
    "    print('wy ==',wy)\n",
    "    \n",
    "my_function()"
   ]
  },
  {
   "cell_type": "code",
   "execution_count": null,
   "metadata": {},
   "outputs": [],
   "source": [
    "def list_function(lst):\n",
    "    for i in lst:\n",
    "        print(i)\n",
    "        \n",
    "lst=[10,20,30]\n",
    "list_function(lst)"
   ]
  },
  {
   "cell_type": "code",
   "execution_count": null,
   "metadata": {},
   "outputs": [],
   "source": [
    "def list_input():\n",
    "    list1=[ i for i in input().split(' ')]\n",
    "    for i in list1:\n",
    "        print(i)"
   ]
  },
  {
   "cell_type": "code",
   "execution_count": null,
   "metadata": {},
   "outputs": [],
   "source": [
    "list_input()"
   ]
  },
  {
   "cell_type": "markdown",
   "metadata": {},
   "source": [
    "#### Lambda \n",
    "- a function without names is called anonymous functions \n",
    "- creating def \n",
    "\n",
    "- lambda arugment_list:expression"
   ]
  },
  {
   "cell_type": "code",
   "execution_count": null,
   "metadata": {},
   "outputs": [],
   "source": [
    "a = lambda x,y:x+y\n",
    "a(10,20)"
   ]
  },
  {
   "cell_type": "code",
   "execution_count": null,
   "metadata": {},
   "outputs": [],
   "source": [
    "f=lambda x:x*x\n",
    "f(120)"
   ]
  },
  {
   "cell_type": "code",
   "execution_count": null,
   "metadata": {},
   "outputs": [],
   "source": [
    "lambda "
   ]
  },
  {
   "cell_type": "code",
   "execution_count": null,
   "metadata": {},
   "outputs": [],
   "source": [
    "maxi=lambda x,y:x if x>y else y\n",
    "maxi(10,25)"
   ]
  },
  {
   "cell_type": "code",
   "execution_count": null,
   "metadata": {},
   "outputs": [],
   "source": [
    "Y = lambda x:'even' if x%2==0 else 'odd'"
   ]
  },
  {
   "cell_type": "code",
   "execution_count": null,
   "metadata": {},
   "outputs": [],
   "source": [
    "Y(2)"
   ]
  },
  {
   "cell_type": "markdown",
   "metadata": {},
   "source": [
    "#### Filter function ()\n",
    "- filter( function , sequence)"
   ]
  },
  {
   "cell_type": "markdown",
   "metadata": {},
   "source": [
    "#### Normal way of doing "
   ]
  },
  {
   "cell_type": "code",
   "execution_count": null,
   "metadata": {},
   "outputs": [],
   "source": [
    "def odd_even(list1):\n",
    "    ly=[]\n",
    "    for i in list1:\n",
    "        if i%2==0:\n",
    "            ly.append(i)\n",
    "    return ly"
   ]
  },
  {
   "cell_type": "code",
   "execution_count": null,
   "metadata": {},
   "outputs": [],
   "source": [
    "list1= [10,20,30,35,25]\n",
    "odd_even(list1)"
   ]
  },
  {
   "cell_type": "code",
   "execution_count": 8,
   "metadata": {},
   "outputs": [],
   "source": [
    "def is_even(x):\n",
    "    if x%2==0:\n",
    "        return True\n",
    "    else:\n",
    "        return False"
   ]
  },
  {
   "cell_type": "code",
   "execution_count": 11,
   "metadata": {},
   "outputs": [
    {
     "data": {
      "text/plain": [
       "[23, 45, 67]"
      ]
     },
     "execution_count": 11,
     "metadata": {},
     "output_type": "execute_result"
    }
   ],
   "source": [
    "list1=[10,20,23,45,46,67,66]\n",
    "ly=[]\n",
    "for i in list1:\n",
    "    if is_even(i)==False:\n",
    "        ly.append(i)\n",
    "ly"
   ]
  },
  {
   "cell_type": "markdown",
   "metadata": {},
   "source": [
    "#### using filter directly"
   ]
  },
  {
   "cell_type": "code",
   "execution_count": null,
   "metadata": {},
   "outputs": [],
   "source": [
    "lst2=list(filter(is_even,list1))\n",
    "print(lst2)"
   ]
  },
  {
   "cell_type": "markdown",
   "metadata": {},
   "source": [
    "#### using lambdas with filter  "
   ]
  },
  {
   "cell_type": "code",
   "execution_count": null,
   "metadata": {},
   "outputs": [],
   "source": [
    "list2=[1,2,3,4,5,6]\n",
    "list3=[0,2,3,4,3,2]"
   ]
  },
  {
   "cell_type": "code",
   "execution_count": null,
   "metadata": {},
   "outputs": [],
   "source": [
    "list(filter(lambda x:(x%2==0),list2))"
   ]
  },
  {
   "cell_type": "code",
   "execution_count": 6,
   "metadata": {},
   "outputs": [
    {
     "name": "stdout",
     "output_type": "stream",
     "text": [
      "2\n",
      "prime\n"
     ]
    }
   ],
   "source": [
    "x= int(input())\n",
    "if x<=1:\n",
    "    print('not a prime')\n",
    "elif x>2 and x%2==0:\n",
    "    print('not a prime')\n",
    "else:\n",
    "    print('prime')"
   ]
  },
  {
   "cell_type": "markdown",
   "metadata": {},
   "source": [
    "#### MAP function with  lambdas \n",
    "- MAP(function , sequence)"
   ]
  },
  {
   "cell_type": "code",
   "execution_count": 18,
   "metadata": {},
   "outputs": [],
   "source": [
    "# write a program to sqyare the sit elements\n",
    "def square_x(x):\n",
    "    return x*x"
   ]
  },
  {
   "cell_type": "code",
   "execution_count": 20,
   "metadata": {},
   "outputs": [
    {
     "data": {
      "text/plain": [
       "[1, 4, 9, 16, 16]"
      ]
     },
     "execution_count": 20,
     "metadata": {},
     "output_type": "execute_result"
    }
   ],
   "source": [
    "list(map(square_x, a))"
   ]
  },
  {
   "cell_type": "code",
   "execution_count": 23,
   "metadata": {},
   "outputs": [
    {
     "data": {
      "text/plain": [
       "[1, 4, 6, 8, 8, 8]"
      ]
     },
     "execution_count": 23,
     "metadata": {},
     "output_type": "execute_result"
    }
   ],
   "source": [
    "list2=[1,2,3,4,5,6]\n",
    "list3=[0,2,3,4,3,2]\n",
    "list(map(lambda x,y:x+y , list2,list3))"
   ]
  },
  {
   "cell_type": "code",
   "execution_count": 17,
   "metadata": {},
   "outputs": [
    {
     "data": {
      "text/plain": [
       "[1, 4, 9, 16, 16]"
      ]
     },
     "execution_count": 17,
     "metadata": {},
     "output_type": "execute_result"
    }
   ],
   "source": [
    "a = [1,2,3,4,4]\n",
    "list(map(lambda x:x*x,a))"
   ]
  },
  {
   "cell_type": "markdown",
   "metadata": {},
   "source": [
    "# Reduce funciton : \n",
    "- it reduces a sequence of elements into a single value\n",
    "- Reduce ( function , sequence)"
   ]
  },
  {
   "cell_type": "code",
   "execution_count": 61,
   "metadata": {},
   "outputs": [
    {
     "data": {
      "text/plain": [
       "720"
      ]
     },
     "execution_count": 61,
     "metadata": {},
     "output_type": "execute_result"
    }
   ],
   "source": [
    "from functools import *\n",
    "reduce(lambda x,y:x*y ,list2)"
   ]
  },
  {
   "cell_type": "code",
   "execution_count": 67,
   "metadata": {},
   "outputs": [
    {
     "data": {
      "text/plain": [
       "9"
      ]
     },
     "execution_count": 67,
     "metadata": {},
     "output_type": "execute_result"
    }
   ],
   "source": [
    "a = [1,2,3,3]\n",
    "reduce(lambda x,y:x+y,a)"
   ]
  },
  {
   "cell_type": "code",
   "execution_count": 62,
   "metadata": {},
   "outputs": [
    {
     "data": {
      "text/plain": [
       "1275"
      ]
     },
     "execution_count": 62,
     "metadata": {},
     "output_type": "execute_result"
    }
   ],
   "source": [
    "# sum of number from start and stop \n",
    "start=1\n",
    "stop=50\n",
    "\n",
    "reduce(lambda a,b:a+b,range(1,51))"
   ]
  },
  {
   "cell_type": "markdown",
   "metadata": {},
   "source": [
    "#### decorators and generators \n",
    "- a decorator is a function that accepts a function as a parameter and returns a function "
   ]
  },
  {
   "cell_type": "code",
   "execution_count": null,
   "metadata": {},
   "outputs": [],
   "source": [
    "def decor(num):\n",
    "    def inner():\n",
    "        value=num()\n",
    "        return value+2\n",
    "    return inner"
   ]
  },
  {
   "cell_type": "code",
   "execution_count": null,
   "metadata": {},
   "outputs": [],
   "source": [
    "def num():\n",
    "    return 10"
   ]
  },
  {
   "cell_type": "code",
   "execution_count": null,
   "metadata": {},
   "outputs": [],
   "source": [
    "num()"
   ]
  },
  {
   "cell_type": "code",
   "execution_count": null,
   "metadata": {},
   "outputs": [],
   "source": [
    "decor(num)()"
   ]
  },
  {
   "cell_type": "code",
   "execution_count": null,
   "metadata": {},
   "outputs": [],
   "source": [
    "def decor(num):\n",
    "    def inner():\n",
    "        value=num()\n",
    "        return value+2\n",
    "    return inner\n",
    "@decor\n",
    "def num():\n",
    "    return 10\n",
    "print(num())"
   ]
  },
  {
   "cell_type": "code",
   "execution_count": null,
   "metadata": {},
   "outputs": [],
   "source": [
    "# generator : \n",
    "- these are funcitons that return a sequence of values \n",
    "- it 'YIELDS' a statements"
   ]
  },
  {
   "cell_type": "code",
   "execution_count": null,
   "metadata": {},
   "outputs": [],
   "source": [
    "def mygen(x,y):\n",
    "    while x<=y:\n",
    "        yield x\n",
    "        x+=1"
   ]
  },
  {
   "cell_type": "code",
   "execution_count": null,
   "metadata": {},
   "outputs": [],
   "source": [
    "g=mygen(5,100)\n",
    "g"
   ]
  },
  {
   "cell_type": "code",
   "execution_count": null,
   "metadata": {},
   "outputs": [],
   "source": [
    "for i in g:\n",
    "    print(i , end=' ')"
   ]
  },
  {
   "cell_type": "code",
   "execution_count": null,
   "metadata": {},
   "outputs": [],
   "source": [
    "list=(1,2,3,4)"
   ]
  },
  {
   "cell_type": "code",
   "execution_count": null,
   "metadata": {},
   "outputs": [],
   "source": [
    "dir(list1)"
   ]
  }
 ],
 "metadata": {
  "kernelspec": {
   "display_name": "Python 3",
   "language": "python",
   "name": "python3"
  },
  "language_info": {
   "codemirror_mode": {
    "name": "ipython",
    "version": 3
   },
   "file_extension": ".py",
   "mimetype": "text/x-python",
   "name": "python",
   "nbconvert_exporter": "python",
   "pygments_lexer": "ipython3",
   "version": "3.8.3"
  }
 },
 "nbformat": 4,
 "nbformat_minor": 2
}
