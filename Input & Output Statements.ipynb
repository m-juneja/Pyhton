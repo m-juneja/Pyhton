{
 "cells": [
  {
   "cell_type": "markdown",
   "metadata": {},
   "source": [
    "Print statements help us to find where our code is going wrong. "
   ]
  },
  {
   "cell_type": "code",
   "execution_count": null,
   "metadata": {},
   "outputs": [],
   "source": [
    "print(\"this is the first line\")\n",
    "\n",
    "\n",
    "print(\"this is \\nthe firstline\")  # \\n : new line character \n",
    "print(\"\\r\")                       # \\r : space between two lines\n",
    "print(\"this is the first\\tline\")  # \\t : tab sapce\n"
   ]
  },
  {
   "cell_type": "code",
   "execution_count": null,
   "metadata": {},
   "outputs": [],
   "source": [
    "### Concatenation of Two Strings\n",
    "\n",
    "print('name = '+ 'Mahak')          # Add two strings use '+' ','\n",
    "print('name =', 'Mahak')           # = sign should be inside '' \n",
    "print('name '+ 'Mahak')\n",
    "print('name','mahak')"
   ]
  },
  {
   "cell_type": "markdown",
   "metadata": {},
   "source": [
    "#### Sep and End Parameter in the Print Statement"
   ]
  },
  {
   "cell_type": "code",
   "execution_count": null,
   "metadata": {},
   "outputs": [],
   "source": [
    "a,b=2,4\n",
    "print(a,b)\n",
    "print(a,b,sep=\"\")      # Use of Separate ',' to give & delete space between two numbers \n",
    "print(a,b,sep=\" \")\n",
    "print(a,b,sep=\"%\")     # Use of separate to add anysign into this two number \n",
    "\n",
    "a = 'mahak'\n",
    "b = 'juneja'\n",
    "print(a,b,sep=\" % \")"
   ]
  },
  {
   "cell_type": "code",
   "execution_count": null,
   "metadata": {},
   "outputs": [],
   "source": [
    "a = 'mahak'\n",
    "b = 'juneja'\n",
    "print(a,end=\" % \")   # Use end',' to add different statement in a one line and also we can sep with space or any other sign.\n",
    "print(b)\n",
    "\n",
    "print('Hello',end=' ')    \n",
    "print('Mehak',end=' ')   \n",
    "print('Voilaa',end=' ')"
   ]
  },
  {
   "cell_type": "markdown",
   "metadata": {},
   "source": [
    "#### Print Statement"
   ]
  },
  {
   "cell_type": "code",
   "execution_count": null,
   "metadata": {},
   "outputs": [],
   "source": [
    "x=1200\n",
    "print(x, \"=salary of employee 1\")\n",
    "\n",
    "x=1212000\n",
    "print(\"salary of employee 1 is =\",x)"
   ]
  },
  {
   "cell_type": "markdown",
   "metadata": {},
   "source": [
    "#### Formatted string \n",
    "- magic functins  : unique properties of python !! \n",
    "-  it calls specific functions in background"
   ]
  },
  {
   "cell_type": "code",
   "execution_count": null,
   "metadata": {},
   "outputs": [],
   "source": [
    "x=12500.50\n",
    "# x_int=int(x)\n",
    "# print(\"value=\",x_int)\n",
    "print('value=%i' %x)  # %i ( int) , %d as decimal integer numbers\n",
    "print('value=%d' %x) # both do the same thing "
   ]
  },
  {
   "cell_type": "code",
   "execution_count": null,
   "metadata": {},
   "outputs": [],
   "source": [
    "name='Mahak'\n",
    "print('gudmorning %s'%name)      # Use of %s to add space between two strings. \n",
    "\n",
    "name='Mahak'\n",
    "print('gudmorning %20s'%name)\n",
    "\n",
    "name='Mahak'\n",
    "print('gudmorning (%-20s)'%name) # Add spaceat the end"
   ]
  },
  {
   "cell_type": "code",
   "execution_count": null,
   "metadata": {},
   "outputs": [],
   "source": [
    "x = 123.343343434343430335666\n",
    "print('The value is %f'%x)         # %f - for decimals ( First 6 by default)  \n",
    "\n",
    "x = 123.343343434343430335666\n",
    "print('The value is %.3f'%x)        # %f - for decimals (if we want three only %0.3f"
   ]
  },
  {
   "cell_type": "code",
   "execution_count": null,
   "metadata": {},
   "outputs": [],
   "source": [
    "x,y,z=0,1,2\n",
    "print('number1={},number2={},number3={}'.format(x,y,z))\n",
    "\n",
    "x,y,z=0,1,2\n",
    "print('number1={1},number2:{0},number3:{2}'.format(x,y,z))\n",
    "\n",
    "name,salary='Rakesh',12333.43888\n",
    "print('His name is {0},and salary is {1}'.format(name,salary))"
   ]
  },
  {
   "cell_type": "code",
   "execution_count": null,
   "metadata": {},
   "outputs": [],
   "source": [
    "name,salary='Rakesh',12333.43888\n",
    "print('His name is {:s},and salary is {:.2f}'.format(name,salary))\n",
    "print('His name is %s,and salary is %.2f'%(name,salary))"
   ]
  },
  {
   "cell_type": "markdown",
   "metadata": {},
   "source": [
    "#### Input statements : \n",
    "- To accept input from User through Keyboard . It will enter a string "
   ]
  },
  {
   "cell_type": "code",
   "execution_count": null,
   "metadata": {},
   "outputs": [],
   "source": [
    "s1=int(input('enter first number'))\n",
    "s2=int(input('enter second number'))\n",
    "s3=(s1+s2)\n",
    "print('Total sum of s4 is', s3)"
   ]
  },
  {
   "cell_type": "markdown",
   "metadata": {},
   "source": [
    "#### LOOPING "
   ]
  },
  {
   "cell_type": "markdown",
   "metadata": {},
   "source": [
    "### Control Statements \n",
    "\n",
    "- if statement \n",
    "- if else statement\n",
    "- if elif else statement\n",
    "- while loop\n",
    "- for loops\n",
    "- else suite\n",
    "- break statements\n",
    "- continute statements\n",
    "- pass statements\n",
    "- assert statements\n",
    "- return statements"
   ]
  },
  {
   "cell_type": "code",
   "execution_count": null,
   "metadata": {},
   "outputs": [],
   "source": [
    "# if condition:\n",
    "#     statements \n",
    "\n",
    "num=1\n",
    "if num==1:\n",
    "    print(\"One\")\n",
    "    print(\"hey\")\n",
    "    print(\"wow\")\n",
    "print(\"over over \")"
   ]
  },
  {
   "cell_type": "code",
   "execution_count": null,
   "metadata": {},
   "outputs": [],
   "source": [
    "# if inside another if\n",
    "\n",
    "num = 3\n",
    "if num ==3:\n",
    "    print('Yes')\n",
    "    if num ==4:\n",
    "        print('No')\n",
    "        \n",
    "        \n",
    "num = 4\n",
    "if num ==3:\n",
    "    print('Yes')\n",
    "    if num ==4:\n",
    "        print('No')"
   ]
  },
  {
   "cell_type": "code",
   "execution_count": null,
   "metadata": {},
   "outputs": [],
   "source": [
    "# if condition:\n",
    "#     statemen1\n",
    "#     statement2\n",
    "# else:\n",
    "#     statement3"
   ]
  },
  {
   "cell_type": "code",
   "execution_count": null,
   "metadata": {},
   "outputs": [],
   "source": [
    "# this program is for finidng if given input number is even or odd \n",
    "x=int(input(\"  Enter integer number   ==> \"))\n",
    "if x%2==0:\n",
    "    print(x , \" is even number\")\n",
    "else:\n",
    "    print(x , \" is odd number\")"
   ]
  },
  {
   "cell_type": "code",
   "execution_count": null,
   "metadata": {},
   "outputs": [],
   "source": [
    "# IF ELIF ELSE :We have to test multiple conditions \n",
    "\n",
    "# test whether number is zero , -ve or +ve\n",
    "num=-5\n",
    "if num==0:\n",
    "    print(\"its zero\")\n",
    "elif num>0:\n",
    "    print(\"its positive\")\n",
    "else:\n",
    "    print(\"its negative \")"
   ]
  },
  {
   "cell_type": "code",
   "execution_count": null,
   "metadata": {},
   "outputs": [],
   "source": [
    "# FOR Loops :\n",
    "# for i in sequence:\n",
    "#     statements"
   ]
  },
  {
   "cell_type": "code",
   "execution_count": null,
   "metadata": {},
   "outputs": [],
   "source": [
    "# iteration over list / tuple / string / Number / Dictionary / Numpy - For Loops\n",
    "\n",
    "list1=[10,20,'A','Z']\n",
    "for i in range(len(list1)):\n",
    "    print(list1[i])\n",
    "    \n",
    "print('\\r')\n",
    "\n",
    "a=(1,2,'b','Z')\n",
    "for i in range(len(a)):\n",
    "    print(a[i])\n",
    "    \n",
    "print('\\r')\n",
    "\n",
    "a=('I am learning Python')\n",
    "for i in range(len(a)):\n",
    "    print(a[i])\n",
    "    \n",
    "print('\\r')\n",
    "\n",
    "a=5\n",
    "for i in range (a):\n",
    "    print(i)\n",
    "    \n",
    "print('\\r')\n",
    "\n",
    "a={'Name':'Maria',\n",
    "  'Class': 12}\n",
    "for i in (a):\n",
    "    print(a[i])\n",
    "     \n",
    "print('\\r')\n",
    "\n",
    "a={'Name':'Maria',\n",
    "  'Class': 12}\n",
    "for i in (a):\n",
    "    print(i,a[i])\n",
    "    \n",
    "print('\\r')\n",
    "\n",
    "import numpy as np\n",
    "a = np.array([1,22,35])\n",
    "for i in range (len(a)):\n",
    "    print(a[i])"
   ]
  },
  {
   "cell_type": "code",
   "execution_count": null,
   "metadata": {},
   "outputs": [],
   "source": [
    "## While\n",
    "# while condition:\n",
    "#     statements\n",
    "# iteration over list / tuple / string / Number / Dictionary / Numpy - While Loops"
   ]
  },
  {
   "cell_type": "code",
   "execution_count": 18,
   "metadata": {},
   "outputs": [
    {
     "name": "stdout",
     "output_type": "stream",
     "text": [
      "1\n",
      "2\n",
      "3\n",
      "4\n",
      "5\n",
      "6\n",
      "7\n",
      "8\n",
      "9\n",
      "10\n",
      "End of code\n",
      "\r\n",
      "1\n",
      "2\n",
      "3\n",
      "4\n",
      "5\n",
      "WOW I GOT FIVE\n",
      "6\n",
      "7\n",
      "8\n",
      "9\n",
      "10\n",
      "END OF CODE\n",
      "\r\n",
      "1020AZ\r\n",
      "I am learning Python"
     ]
    }
   ],
   "source": [
    "x=1\n",
    "while x<=10:\n",
    "    print(x)\n",
    "    x=x+1\n",
    "print('End of code')\n",
    "\n",
    "print('\\r')\n",
    "\n",
    "x=1\n",
    "while x<=10:\n",
    "    print(x)\n",
    "    if x==5:\n",
    "        print(\"WOW I GOT FIVE\")\n",
    "    x+=1 # x=x+1\n",
    "print(\"END OF CODE\")\n",
    "\n",
    "print('\\r')\n",
    "\n",
    "list1=[10,20,'A','Z']\n",
    "n = len(list1)\n",
    "i=0\n",
    "while i<n: \n",
    "    print(list1[i],end='')\n",
    "    i=i+1\n",
    "\n",
    "print('\\r')\n",
    "\n",
    "ab='I am learning Python'\n",
    "n = len(ab)\n",
    "i=0\n",
    "while i<n: \n",
    "    print(ab[i],end='')\n",
    "    i=i+1"
   ]
  },
  {
   "cell_type": "markdown",
   "metadata": {},
   "source": [
    "#### Nested Loops"
   ]
  },
  {
   "cell_type": "code",
   "execution_count": null,
   "metadata": {},
   "outputs": [],
   "source": [
    "list1=[10,20,'A','Z']\n",
    "list2=['500','1000','12123123']\n",
    "for x in list1:\n",
    "    for y in list2:\n",
    "        print(y , x )"
   ]
  },
  {
   "cell_type": "code",
   "execution_count": null,
   "metadata": {},
   "outputs": [],
   "source": [
    "for i in range(3): # 0,1,2\n",
    "    for j in range(4) :# 0 , 1 , 2 , 3\n",
    "        print(\"i= \", i , '\\t' , 'j=',j)\n",
    "        print(\"Iteration ending for i ==> \", i )"
   ]
  },
  {
   "cell_type": "code",
   "execution_count": 1,
   "metadata": {},
   "outputs": [
    {
     "name": "stdout",
     "output_type": "stream",
     "text": [
      "enter a number5\n",
      "*\n",
      "**\n",
      "***\n",
      "****\n",
      "*****\n"
     ]
    }
   ],
   "source": [
    "x= int(input('enter a number'))\n",
    "for i in range(x):\n",
    "    for j in range(i+1):\n",
    "        print('*', end='')\n",
    "    print('')"
   ]
  },
  {
   "cell_type": "code",
   "execution_count": null,
   "metadata": {},
   "outputs": [],
   "source": [
    "l1=[10,20,30,100,150]\n",
    "sum=0\n",
    "for i in range (len(l1)):\n",
    "    print(l1[i])\n",
    "    sum=sum+l1[i]\n",
    "print('sum ==',sum)"
   ]
  },
  {
   "cell_type": "code",
   "execution_count": null,
   "metadata": {},
   "outputs": [],
   "source": [
    "# Loop + Else \n",
    "\n",
    "for i in range(0):\n",
    "    print(\"yes\")\n",
    "else:\n",
    "    print(\"NO\")"
   ]
  },
  {
   "cell_type": "markdown",
   "metadata": {},
   "source": [
    "#### Break Statements \n",
    "- can be used inside a for loop or while loop to come out of loop\n",
    "- whenever break is executed , python interpreter jumps out of loop to process the next line \n",
    "- Once you find the solution, you don't want to go ahead and finish the process here so we use break statement. "
   ]
  },
  {
   "cell_type": "code",
   "execution_count": null,
   "metadata": {},
   "outputs": [],
   "source": [
    "x=10\n",
    "while x>=1:\n",
    "    print('x =>',x)\n",
    "    x-=1 # x=x-1\n",
    "    if x==5:\n",
    "        break\n",
    "print(\"i m out of the loop\")"
   ]
  },
  {
   "cell_type": "markdown",
   "metadata": {},
   "source": [
    "#### Continue Statement \n",
    "\n",
    "- it is used to go back to the beginning of the loop.\n",
    "- when you use continue, th next repetition or iteration will start "
   ]
  },
  {
   "cell_type": "code",
   "execution_count": null,
   "metadata": {},
   "outputs": [],
   "source": [
    "x=0\n",
    "while x<10:\n",
    "    x+=1 # x=x+1 ( x=0+1==> x=1)\n",
    "    if x==5:\n",
    "        continue\n",
    "    print('X ==>',x)\n",
    "print(\"out of the loop\")\n",
    "\n",
    "print(\"\\r\")\n",
    "\n",
    "x=0\n",
    "while x<10:\n",
    "    x=x+1\n",
    "    if x>5:\n",
    "        continue\n",
    "    print('x =', x)\n",
    "print('end of the loop')"
   ]
  },
  {
   "cell_type": "markdown",
   "metadata": {},
   "source": [
    "#### Pass Statement:\n",
    "\n",
    "- do nothing \n",
    "- no operation in if,while,for "
   ]
  },
  {
   "cell_type": "code",
   "execution_count": null,
   "metadata": {},
   "outputs": [],
   "source": [
    "x=5\n",
    "while x<10:\n",
    "    x=x+1\n",
    "    if x>5:\n",
    "        pass\n",
    "    print('x =', x)\n",
    "print('end of the loop')"
   ]
  },
  {
   "cell_type": "code",
   "execution_count": null,
   "metadata": {},
   "outputs": [],
   "source": [
    "x='maria1'\n",
    "if x=='maria':\n",
    "    print(\"hey mehak\")\n",
    "else:\n",
    "    pass\n",
    "\n",
    "print('\\r')\n",
    "\n",
    "num=[1,2,3,-4,-5,-6,-7,8,9]\n",
    "for i in num:\n",
    "    if(i>0):\n",
    "        pass\n",
    "    else:\n",
    "        print(i)"
   ]
  },
  {
   "cell_type": "code",
   "execution_count": null,
   "metadata": {},
   "outputs": [],
   "source": []
  }
 ],
 "metadata": {
  "kernelspec": {
   "display_name": "Python 3",
   "language": "python",
   "name": "python3"
  },
  "language_info": {
   "codemirror_mode": {
    "name": "ipython",
    "version": 3
   },
   "file_extension": ".py",
   "mimetype": "text/x-python",
   "name": "python",
   "nbconvert_exporter": "python",
   "pygments_lexer": "ipython3",
   "version": "3.8.5"
  }
 },
 "nbformat": 4,
 "nbformat_minor": 4
}
