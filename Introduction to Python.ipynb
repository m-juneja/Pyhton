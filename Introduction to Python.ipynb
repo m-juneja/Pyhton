{
 "cells": [
  {
   "cell_type": "markdown",
   "metadata": {},
   "source": [
    "#### Introduction to Python"
   ]
  },
  {
   "cell_type": "markdown",
   "metadata": {},
   "source": [
    "\n",
    "\n",
    "\n",
    "- Python is a high level language Machine - 1990 \n",
    "- There are three types of languages. Machine / Assembly / High level Language \n",
    "- Py File - Byte Code ( CONTENT OF PYC FILE ) - Machine Code - Final Outcome (Computer)\n",
    "- With the help of Compiler By file convert it into PYC file and then with the help of PVM we converts it into Machine Code(1,0) \n",
    "- We only see from py to computer but its important to know what's happening behind it. "
   ]
  },
  {
   "cell_type": "markdown",
   "metadata": {},
   "source": [
    "- Convert PY file into PYC (on CMD)               <<        python -m  py_compile file name.py\n",
    "- See final outcome                               <<        python filename.py-m  py_compile file name.py\n",
    "- Display content of PYV (on CMD)                 <<        python -m  dis file name.py (This is called disassembler)\n"
   ]
  },
  {
   "cell_type": "markdown",
   "metadata": {},
   "source": [
    "- pwd - print the absolute pathname of your current working directory\n",
    "- ls - list the contents of the current directory (\"ls\" is short for \"list\")"
   ]
  },
  {
   "cell_type": "code",
   "execution_count": 9,
   "metadata": {},
   "outputs": [
    {
     "data": {
      "text/plain": [
       "'C:\\\\Users\\\\Mahak Juneja\\\\GITHUB'"
      ]
     },
     "execution_count": 9,
     "metadata": {},
     "output_type": "execute_result"
    }
   ],
   "source": [
    "pwd"
   ]
  },
  {
   "cell_type": "code",
   "execution_count": 10,
   "metadata": {},
   "outputs": [
    {
     "name": "stdout",
     "output_type": "stream",
     "text": [
      " Volume in drive C is OS\n",
      " Volume Serial Number is CEB9-EB69\n",
      "\n",
      " Directory of C:\\Users\\Mahak Juneja\\GITHUB\n",
      "\n",
      "05/02/2021  07:18 PM    <DIR>          .\n",
      "05/02/2021  07:18 PM    <DIR>          ..\n",
      "05/02/2021  04:03 PM    <DIR>          .ipynb_checkpoints\n",
      "05/02/2021  02:01 PM         3,358,925 Files in Python .ipynb\n",
      "05/02/2021  07:18 PM             5,184 Introduction to Python.ipynb\n",
      "               2 File(s)      3,364,109 bytes\n",
      "               3 Dir(s)  20,714,979,328 bytes free\n"
     ]
    }
   ],
   "source": [
    "ls"
   ]
  },
  {
   "cell_type": "code",
   "execution_count": 11,
   "metadata": {},
   "outputs": [
    {
     "data": {
      "text/plain": [
       "'C:\\\\Users\\\\Mahak Juneja\\\\GITHUB'"
      ]
     },
     "execution_count": 11,
     "metadata": {},
     "output_type": "execute_result"
    }
   ],
   "source": [
    "import os \n",
    "os.getcwd()"
   ]
  },
  {
   "cell_type": "markdown",
   "metadata": {},
   "source": [
    "#### Working Directory\n",
    "\n",
    "- Shows the path of our file where i am developing my project/save code/images/work\n",
    "- change working directory os.chdir(New Path)"
   ]
  },
  {
   "cell_type": "markdown",
   "metadata": {},
   "source": [
    "#### Console\n",
    "\n",
    "- This piece of black widow..also called command prompt.\n",
    "- console is where you give manually commands to open a new file\n",
    "- For Ex. from Anaconda prompt wec can open all the python system, notebook, excel, word etc.. "
   ]
  },
  {
   "cell_type": "markdown",
   "metadata": {},
   "source": [
    "#### Install Libraries \n",
    "- Use command pip install.. Pandas/numpy etc."
   ]
  },
  {
   "cell_type": "markdown",
   "metadata": {},
   "source": [
    "#### Environment Variable \n",
    "\n",
    "- Whenever you install python system IDLE / ANACONDA /SPYDER etc..\n",
    "- we can access python from anaconda terminal because of the environment variable.\n",
    "- we have a path directory there where all the python setup IDE can find out. \n",
    "- From anaconda prompt-- we can open python,notepad,anaconda tools because they are on the same path. \n",
    "- Use of the environment variable is there are certain applications you want to access from one place."
   ]
  },
  {
   "cell_type": "markdown",
   "metadata": {},
   "source": [
    "- To check all environment created             >>    conda info --en\n",
    "- How we create a new environment              >> conda create --name=super2 python 3.5. \n",
    "- Even in future versions, your application will work on a specific version.\n",
    "- To check the environment-- conda info --envs \n",
    "- conda activate  to activate the environment \n",
    "\n",
    "\n",
    "- We can create a lot of environment..for different projects because they required different version. "
   ]
  }
 ],
 "metadata": {
  "kernelspec": {
   "display_name": "Python 3",
   "language": "python",
   "name": "python3"
  },
  "language_info": {
   "codemirror_mode": {
    "name": "ipython",
    "version": 3
   },
   "file_extension": ".py",
   "mimetype": "text/x-python",
   "name": "python",
   "nbconvert_exporter": "python",
   "pygments_lexer": "ipython3",
   "version": "3.8.5"
  }
 },
 "nbformat": 4,
 "nbformat_minor": 4
}
