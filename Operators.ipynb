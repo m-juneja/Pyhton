{
 "cells": [
  {
   "cell_type": "markdown",
   "metadata": {},
   "source": [
    "#### Operators - Helping us do some operations.\n",
    "\n",
    "- The way we do calculations. \n",
    "- Arithmetic Operator \n",
    "- Assignment Operator \n",
    "- Unary minus Operator\n",
    "- Relational Operator\n",
    "- Logical Operator \n",
    "- Boolean Opeartor\n",
    "- Bitwise Operator - hardly utilized"
   ]
  },
  {
   "cell_type": "code",
   "execution_count": 1,
   "metadata": {},
   "outputs": [],
   "source": [
    "### Arithmetic Operator \n",
    "\n",
    "\n",
    "#- +\n",
    "#- - \n",
    "#- *\n",
    "#- /\n",
    "#- %\n",
    "#- **\n",
    "#- //"
   ]
  },
  {
   "cell_type": "code",
   "execution_count": 2,
   "metadata": {},
   "outputs": [
    {
     "name": "stdout",
     "output_type": "stream",
     "text": [
      "17\n",
      "-3\n",
      "70\n",
      "7\n",
      "282475249\n",
      "0.7\n",
      "0\n"
     ]
    }
   ],
   "source": [
    "a=7\n",
    "b=10\n",
    "print(a+b)\n",
    "print(a-b)\n",
    "print(a*b)\n",
    "print(a%b)    #Reminder left 13%5 - Answer will be 3\n",
    "print(a**b)\n",
    "print(a/b)\n",
    "print(a//b)   #Quotient 13/5 - Answer will be 2 \n"
   ]
  },
  {
   "cell_type": "code",
   "execution_count": null,
   "metadata": {},
   "outputs": [],
   "source": [
    "### Assingment Operator - \n",
    "\n",
    "\n",
    "# = \n",
    "# += ==> z=z+x  => z+=x\n",
    "\n",
    "# -= ==> z=z-x ==> z-=x\n",
    "\n",
    "# *= ==> z=z*x ==> z*=x\n",
    "\n",
    "# /= ==> z=z/x ==> z/=x\n",
    "\n",
    "# %=  ==> z=z%x ==> z%=x\n",
    "\n",
    "# **= ==> z=z**x ==> z**=y\n",
    "\n",
    "# //= ==> z=z//x ==> z//=x"
   ]
  },
  {
   "cell_type": "code",
   "execution_count": 81,
   "metadata": {},
   "outputs": [
    {
     "name": "stdout",
     "output_type": "stream",
     "text": [
      "7\n",
      "3\n",
      "2.5\n",
      "2\n",
      "10\n",
      "1\n"
     ]
    }
   ],
   "source": [
    "m=5\n",
    "m+=2\n",
    "print(m)\n",
    "\n",
    "m=5\n",
    "m-=2\n",
    "print(m)\n",
    "\n",
    "m=5\n",
    "m/=2\n",
    "print(m)\n",
    "\n",
    "m=5\n",
    "m//=2\n",
    "print(m)\n",
    "\n",
    "m=5\n",
    "m*=2\n",
    "print(m)\n",
    "\n",
    "m=5\n",
    "m%=2\n",
    "print(m)"
   ]
  },
  {
   "cell_type": "code",
   "execution_count": 77,
   "metadata": {},
   "outputs": [
    {
     "name": "stdout",
     "output_type": "stream",
     "text": [
      "3\n",
      "3\n",
      "3\n",
      "1\n"
     ]
    }
   ],
   "source": [
    "a=b=3\n",
    "print(a)\n",
    "\n",
    "a=3\n",
    "b=3\n",
    "print(a)\n",
    "\n",
    "a,b=3,0\n",
    "print(a)\n",
    "\n",
    "a=1;b=3\n",
    "print(a)"
   ]
  },
  {
   "cell_type": "markdown",
   "metadata": {},
   "source": [
    "#### Unary Minus Operator  "
   ]
  },
  {
   "cell_type": "code",
   "execution_count": null,
   "metadata": {},
   "outputs": [],
   "source": [
    "n = 10\n",
    "print(-n)   # if you add minus then it multiply it. "
   ]
  },
  {
   "cell_type": "code",
   "execution_count": 83,
   "metadata": {},
   "outputs": [
    {
     "name": "stdout",
     "output_type": "stream",
     "text": [
      "-10\n"
     ]
    }
   ],
   "source": [
    "num = 10\n",
    "print(-num)"
   ]
  },
  {
   "cell_type": "code",
   "execution_count": 5,
   "metadata": {},
   "outputs": [
    {
     "ename": "SyntaxError",
     "evalue": "invalid syntax (<ipython-input-5-36b6a4248a1e>, line 3)",
     "output_type": "error",
     "traceback": [
      "\u001b[1;36m  File \u001b[1;32m\"<ipython-input-5-36b6a4248a1e>\"\u001b[1;36m, line \u001b[1;32m3\u001b[0m\n\u001b[1;33m    -<\u001b[0m\n\u001b[1;37m     ^\u001b[0m\n\u001b[1;31mSyntaxError\u001b[0m\u001b[1;31m:\u001b[0m invalid syntax\n"
     ]
    }
   ],
   "source": [
    "### Relational Operator\n",
    "\n",
    "- <\n",
    "- >\n",
    "- >=\n",
    "- <=\n",
    "- ==\n",
    "- !="
   ]
  },
  {
   "cell_type": "code",
   "execution_count": 8,
   "metadata": {},
   "outputs": [
    {
     "name": "stdout",
     "output_type": "stream",
     "text": [
      "True\n",
      "False\n",
      "True\n",
      "True\n"
     ]
    }
   ],
   "source": [
    "print(2==2)\n",
    "print(2!=2)\n",
    "print(2<3)"
   ]
  },
  {
   "cell_type": "markdown",
   "metadata": {},
   "source": [
    "#### Logical Operator \n",
    "\n",
    "- AND\n",
    "- OR\n",
    "- NOT "
   ]
  },
  {
   "cell_type": "code",
   "execution_count": 103,
   "metadata": {},
   "outputs": [
    {
     "name": "stdout",
     "output_type": "stream",
     "text": [
      "False\n"
     ]
    }
   ],
   "source": [
    "x = True\n",
    "y = False\n",
    "print(x and y)"
   ]
  },
  {
   "cell_type": "code",
   "execution_count": 10,
   "metadata": {},
   "outputs": [
    {
     "name": "stdout",
     "output_type": "stream",
     "text": [
      "True\n"
     ]
    }
   ],
   "source": [
    "x = True\n",
    "y = True\n",
    "print(x and y)"
   ]
  },
  {
   "cell_type": "code",
   "execution_count": 9,
   "metadata": {},
   "outputs": [
    {
     "name": "stdout",
     "output_type": "stream",
     "text": [
      "True\n"
     ]
    }
   ],
   "source": [
    "x = True   \n",
    "y = False          \n",
    "print(x or y)     "
   ]
  },
  {
   "cell_type": "code",
   "execution_count": 114,
   "metadata": {},
   "outputs": [
    {
     "name": "stdout",
     "output_type": "stream",
     "text": [
      "True\n"
     ]
    }
   ],
   "source": [
    "x = 2\n",
    "print(x>3 or x<7)    # even it meets one condition only.. it will be True."
   ]
  },
  {
   "cell_type": "code",
   "execution_count": 15,
   "metadata": {},
   "outputs": [
    {
     "name": "stdout",
     "output_type": "stream",
     "text": [
      "True\n"
     ]
    }
   ],
   "source": [
    "x = 3\n",
    "print(not(x>6))    # condition doesnt match, True"
   ]
  },
  {
   "cell_type": "code",
   "execution_count": 118,
   "metadata": {},
   "outputs": [
    {
     "name": "stdout",
     "output_type": "stream",
     "text": [
      "False\n"
     ]
    }
   ],
   "source": [
    "x = 5\n",
    "print(not(x>4 and x<6))     # Both condition matches its False"
   ]
  },
  {
   "cell_type": "code",
   "execution_count": 12,
   "metadata": {},
   "outputs": [
    {
     "name": "stdout",
     "output_type": "stream",
     "text": [
      "True\n"
     ]
    }
   ],
   "source": [
    "x = 12\n",
    "print(not(x>5 and x<6))  # One False and another one True so its True"
   ]
  },
  {
   "cell_type": "markdown",
   "metadata": {},
   "source": [
    "#### Boolean Operators - True/False\n",
    "\n",
    "- These are True and False \n",
    "- They act on bool type literals and output 'bool' type only\n",
    "- Results will also be T/F\n",
    "\n",
    "- x and y ==> if both are x and y are True ===> thn only result is True\n",
    "- x or y ==> if either of x and y is True ==> then result is True\n",
    "- not x ===> if x is True ==> output would be False"
   ]
  },
  {
   "cell_type": "code",
   "execution_count": 2,
   "metadata": {},
   "outputs": [
    {
     "name": "stdout",
     "output_type": "stream",
     "text": [
      "False\n",
      "True\n",
      "False\n",
      "True\n",
      "True\n",
      "True\n"
     ]
    }
   ],
   "source": [
    "a = True\n",
    "b= False\n",
    "print(a and b)\n",
    "print(a or b)\n",
    "print(not a)\n",
    "print(not b )\n",
    "print(a and a )\n",
    "print(a or a)"
   ]
  },
  {
   "cell_type": "code",
   "execution_count": null,
   "metadata": {},
   "outputs": [],
   "source": []
  },
  {
   "cell_type": "markdown",
   "metadata": {},
   "source": [
    "#### Bit wise Operators \n",
    "\n",
    "- Are those Operators who work with bits, It's always 0 and 1. Machine only understands these numbers. All the highly level languages work with 0 and 1.  \n",
    "- How do I convert a normal decimal number into a binary number / divide by 2. \n",
    "- 45/2 // 22 - 1 // 11 - 0 // 5 - 1 // 2 - 1 // 1 - 0 // 0  - 1\n",
    "- From the backend we start 00101101 - add zero zero because we need 8 digits. \n",
    "\n",
    "- GATE ARE COME FROM PHYSICS...\n",
    "\n",
    "- There are 6 kinds of bit wise operators. \n",
    "\n",
    "- AND GATE [0/0, 0/1, 1/0 = 0 but 1/1 = 1\n",
    "- OR GATE  [0/1, 1/0, 1/1 = 1 but 0/0 = 0\n",
    "- XOR GATE [0/0, 1/1 = 0      but 0/1, 1/0 = 1\n",
    "- BITWISE LEFT SHIFT OPERATOR\n",
    "- BITWISE RIGHT SHIFT OPERATOR \n",
    "- Complement Operators - If we have an integer expression that contains 0000 1111 then after performing bitwise complement operation the value will become 1111 0000"
   ]
  },
  {
   "cell_type": "code",
   "execution_count": 1,
   "metadata": {},
   "outputs": [
    {
     "name": "stdout",
     "output_type": "stream",
     "text": [
      "10\n",
      "11\n",
      "10\n",
      "11\n",
      "1\n",
      "40\n",
      "2\n"
     ]
    }
   ],
   "source": [
    "x = 0B00001010\n",
    "y = 0B00001011\n",
    "print(x) # In integar form\n",
    "print(y)\n",
    "print(x&y) # Adding x + y [0B00001010] IT'S EQUAL TO X.. SO integar will be 10. \n",
    "print(x|y) # Adding x + y [0B00001011] IT'S EQUAL TO Y.. SO integar will be 11. \n",
    "print(x^y) # Adding x + y [0B00000001] \n",
    "print(x<<2)# LEFT SHIFT - 0B00101000 - MOVING TWO DIGITS.\n",
    "print(x>>2)# RIGHT SHIFT - 0B000010 - MOVING LAST TWO DIGITS OF RIGHT "
   ]
  },
  {
   "cell_type": "markdown",
   "metadata": {},
   "source": [
    "#### Membership Operator\n",
    "\n",
    "- IN\n",
    "- NOT IN \n",
    "- we require these two type of operator to find element.. if they are or not in the sequence. "
   ]
  },
  {
   "cell_type": "code",
   "execution_count": 4,
   "metadata": {},
   "outputs": [
    {
     "name": "stdout",
     "output_type": "stream",
     "text": [
      "Not Happy\n"
     ]
    }
   ],
   "source": [
    "List1 = [10,20,30,40,50]\n",
    "if 100 in List1:\n",
    "    print('Happy')\n",
    "else:\n",
    "    print('Not Happy')"
   ]
  },
  {
   "cell_type": "code",
   "execution_count": 5,
   "metadata": {},
   "outputs": [
    {
     "name": "stdout",
     "output_type": "stream",
     "text": [
      "Happy\n"
     ]
    }
   ],
   "source": [
    "List1 = [10,20,30,40,50]\n",
    "if 100 not in List1:\n",
    "    print('Happy')\n",
    "else:\n",
    "    print('Not Happy')"
   ]
  },
  {
   "cell_type": "markdown",
   "metadata": {},
   "source": [
    "#### Identity Operator \n",
    "\n",
    "- The way value stored in the python \n",
    "- if the value are same of two different variable.. it will store into some memory block. \n",
    "- a = 2 // b =2 // a = b = 2 that's why pyhton is efficient"
   ]
  },
  {
   "cell_type": "code",
   "execution_count": null,
   "metadata": {},
   "outputs": [],
   "source": [
    "a = 25\n",
    "b = 25\n",
    "print(id(a))\n",
    "print(id(b))\n",
    "print(id(a)==id(b))"
   ]
  }
 ],
 "metadata": {
  "kernelspec": {
   "display_name": "Python 3",
   "language": "python",
   "name": "python3"
  },
  "language_info": {
   "codemirror_mode": {
    "name": "ipython",
    "version": 3
   },
   "file_extension": ".py",
   "mimetype": "text/x-python",
   "name": "python",
   "nbconvert_exporter": "python",
   "pygments_lexer": "ipython3",
   "version": "3.8.5"
  }
 },
 "nbformat": 4,
 "nbformat_minor": 4
}
